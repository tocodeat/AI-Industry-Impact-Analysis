{
 "cells": [
  {
   "cell_type": "code",
   "execution_count": 1,
   "id": "b5715961-04fb-4141-8f68-4843cda73086",
   "metadata": {},
   "outputs": [],
   "source": [
    "import pandas as pd\n",
    "import numpy as np\n",
    "import matplotlib.pyplot as plt\n",
    "from IPython.display import clear_output\n",
    "from collections import Counter"
   ]
  },
  {
   "cell_type": "code",
   "execution_count": 2,
   "id": "79b31032-542c-4630-bca9-8d903a0ee0e3",
   "metadata": {},
   "outputs": [
    {
     "name": "stdout",
     "output_type": "stream",
     "text": [
      "\u001b[33mWARNING: Ignoring invalid distribution -andas (/opt/conda/lib/python3.10/site-packages)\u001b[0m\u001b[33m\n",
      "\u001b[0mRequirement already satisfied: pandarallel in /opt/conda/lib/python3.10/site-packages (1.6.5)\n",
      "Requirement already satisfied: dill>=0.3.1 in /opt/conda/lib/python3.10/site-packages (from pandarallel) (0.3.6)\n",
      "Requirement already satisfied: pandas>=1 in /opt/conda/lib/python3.10/site-packages (from pandarallel) (2.0.1)\n",
      "Requirement already satisfied: psutil in /opt/conda/lib/python3.10/site-packages (from pandarallel) (5.9.3)\n",
      "Requirement already satisfied: python-dateutil>=2.8.2 in /opt/conda/lib/python3.10/site-packages (from pandas>=1->pandarallel) (2.8.2)\n",
      "Requirement already satisfied: pytz>=2020.1 in /opt/conda/lib/python3.10/site-packages (from pandas>=1->pandarallel) (2023.3)\n",
      "Requirement already satisfied: tzdata>=2022.1 in /opt/conda/lib/python3.10/site-packages (from pandas>=1->pandarallel) (2023.3)\n",
      "Requirement already satisfied: numpy>=1.21.0 in /opt/conda/lib/python3.10/site-packages (from pandas>=1->pandarallel) (1.24.3)\n",
      "Requirement already satisfied: six>=1.5 in /opt/conda/lib/python3.10/site-packages (from python-dateutil>=2.8.2->pandas>=1->pandarallel) (1.16.0)\n",
      "\u001b[33mWARNING: Ignoring invalid distribution -andas (/opt/conda/lib/python3.10/site-packages)\u001b[0m\u001b[33m\n",
      "\u001b[0m"
     ]
    }
   ],
   "source": [
    "!pip install pandarallel\n",
    "\n",
    "clear_output(wait=True)"
   ]
  },
  {
   "cell_type": "code",
   "execution_count": 3,
   "id": "d7fc205d-5fd6-453d-aa8d-203ebf07f033",
   "metadata": {},
   "outputs": [
    {
     "name": "stdout",
     "output_type": "stream",
     "text": [
      "Available CPUs: 16\n"
     ]
    }
   ],
   "source": [
    "from pandarallel import pandarallel\n",
    "import multiprocessing\n",
    "num_processors = multiprocessing.cpu_count()\n",
    "workers = num_processors-1\n",
    "print(f'Available CPUs: {num_processors}')"
   ]
  },
  {
   "cell_type": "code",
   "execution_count": 4,
   "id": "f8fbad95-acc7-4263-8a7e-fe047b811f07",
   "metadata": {},
   "outputs": [
    {
     "name": "stdout",
     "output_type": "stream",
     "text": [
      "Downloaded spacy curpus\n"
     ]
    }
   ],
   "source": [
    "!pip install spacy --user\n",
    "\n",
    "!python3 -m spacy download en_core_web_sm\n",
    "\n",
    "clear_output(wait=True)\n",
    "\n",
    "print(\"Downloaded spacy curpus\")"
   ]
  },
  {
   "cell_type": "code",
   "execution_count": 5,
   "id": "1f9061a5-2337-43ea-8fca-779723ae5bb3",
   "metadata": {},
   "outputs": [
    {
     "data": {
      "text/plain": [
       "['ner', 'merge_entities']"
      ]
     },
     "execution_count": 5,
     "metadata": {},
     "output_type": "execute_result"
    }
   ],
   "source": [
    "import spacy\n",
    "nlp = spacy.load(\"en_core_web_sm\",  enable=['ner'])\n",
    "nlp.add_pipe('merge_entities')\n",
    "clear_output(wait=True)\n",
    "nlp.pipe_names"
   ]
  },
  {
   "cell_type": "code",
   "execution_count": 6,
   "id": "d8e3c8da-fc06-405e-94e6-31ff6e14b2bd",
   "metadata": {},
   "outputs": [
    {
     "name": "stdout",
     "output_type": "stream",
     "text": [
      "\u001b[1m\n",
      "============================= Pipeline Overview =============================\u001b[0m\n",
      "\n",
      "#   Component        Assigns          Requires         Scores          Retokenizes\n",
      "-   --------------   --------------   --------------   -------------   -----------\n",
      "0   ner              doc.ents                          ents_f          False      \n",
      "                     token.ent_iob                     ents_p                     \n",
      "                     token.ent_type                    ents_r                     \n",
      "                                                       ents_per_type              \n",
      "                                                                                  \n",
      "1   merge_entities                    doc.ents                         True       \n",
      "                                      token.ent_iob                               \n",
      "                                      token.ent_type                              \n",
      "\n",
      "\u001b[38;5;2m✔ No problems found.\u001b[0m\n",
      "{'summary': {'ner': {'assigns': ['doc.ents', 'token.ent_iob', 'token.ent_type'], 'requires': [], 'scores': ['ents_f', 'ents_p', 'ents_r', 'ents_per_type'], 'retokenizes': False}, 'merge_entities': {'assigns': [], 'requires': ['doc.ents', 'token.ent_iob', 'token.ent_type'], 'scores': [], 'retokenizes': True}}, 'problems': {'ner': [], 'merge_entities': []}, 'attrs': {'token.ent_type': {'assigns': ['ner'], 'requires': ['merge_entities']}, 'token.ent_iob': {'assigns': ['ner'], 'requires': ['merge_entities']}, 'doc.ents': {'assigns': ['ner'], 'requires': ['merge_entities']}}}\n"
     ]
    }
   ],
   "source": [
    "analysis = nlp.analyze_pipes(pretty=True)\n",
    "print(analysis)"
   ]
  },
  {
   "cell_type": "code",
   "execution_count": 7,
   "id": "c0d18df6-e21c-449d-be69-bbec8003cc2b",
   "metadata": {},
   "outputs": [
    {
     "name": "stdout",
     "output_type": "stream",
     "text": [
      "CPU times: user 2.45 s, sys: 425 ms, total: 2.87 s\n",
      "Wall time: 2.86 s\n"
     ]
    }
   ],
   "source": [
    "df = pd.read_csv('df_news_recomb.csv')"
   ]
  },
  {
   "cell_type": "code",
   "execution_count": 8,
   "id": "30d8ed0d-8d38-4290-aa7c-4d9a3d0ecf38",
   "metadata": {},
   "outputs": [
    {
     "data": {
      "text/html": [
       "<div>\n",
       "<style scoped>\n",
       "    .dataframe tbody tr th:only-of-type {\n",
       "        vertical-align: middle;\n",
       "    }\n",
       "\n",
       "    .dataframe tbody tr th {\n",
       "        vertical-align: top;\n",
       "    }\n",
       "\n",
       "    .dataframe thead th {\n",
       "        text-align: right;\n",
       "    }\n",
       "</style>\n",
       "<table border=\"1\" class=\"dataframe\">\n",
       "  <thead>\n",
       "    <tr style=\"text-align: right;\">\n",
       "      <th></th>\n",
       "      <th>token_text</th>\n",
       "    </tr>\n",
       "  </thead>\n",
       "  <tbody>\n",
       "    <tr>\n",
       "      <th>0</th>\n",
       "      <td>artificial intelligence improves parking effic...</td>\n",
       "    </tr>\n",
       "    <tr>\n",
       "      <th>1</th>\n",
       "      <td>child autism saw learning social skill boosted...</td>\n",
       "    </tr>\n",
       "  </tbody>\n",
       "</table>\n",
       "</div>"
      ],
      "text/plain": [
       "                                          token_text\n",
       "0  artificial intelligence improves parking effic...\n",
       "1  child autism saw learning social skill boosted..."
      ]
     },
     "execution_count": 8,
     "metadata": {},
     "output_type": "execute_result"
    }
   ],
   "source": [
    "df.head(2)"
   ]
  },
  {
   "cell_type": "code",
   "execution_count": 9,
   "id": "7eea6db0-60e8-4714-aa6a-dd0bc34003f4",
   "metadata": {},
   "outputs": [
    {
     "name": "stdout",
     "output_type": "stream",
     "text": [
      "CPU times: user 5min 24s, sys: 9.2 s, total: 5min 33s\n",
      "Wall time: 5min 36s\n"
     ]
    }
   ],
   "source": [
    "org_entities_spacy = []\n",
    "\n",
    "for doc in nlp.pipe(texts = df.loc[:,'token_text'], n_process = workers, batch_size = 300):\n",
    "    for token in doc:\n",
    "        if token.ent_type_ == 'ORG':\n",
    "            org_entities_spacy.append(token.lower_)\n"
   ]
  },
  {
   "cell_type": "code",
   "execution_count": 10,
   "id": "f212d496-dc4d-44f8-b835-de3c95cc8dd4",
   "metadata": {},
   "outputs": [
    {
     "name": "stdout",
     "output_type": "stream",
     "text": [
      "CPU times: user 5min 1s, sys: 9.16 s, total: 5min 10s\n",
      "Wall time: 5min 13s\n"
     ]
    }
   ],
   "source": [
    "person_entities_spacy = []\n",
    "\n",
    "for doc in nlp.pipe(texts = df.loc[:,'token_text'], n_process = workers, batch_size = 300):\n",
    "    for token in doc:\n",
    "        if token.ent_type_ == 'PERSON':\n",
    "            person_entities_spacy.append(token.lower_)\n"
   ]
  },
  {
   "cell_type": "code",
   "execution_count": 12,
   "id": "07160b6b-08aa-432f-8611-4fb6f79fa6f0",
   "metadata": {},
   "outputs": [
    {
     "data": {
      "text/plain": [
       "[('microsoft', 29942),\n",
       " ('google', 22000),\n",
       " ('ibm', 8674),\n",
       " ('gpt', 5997),\n",
       " ('fcc', 4641),\n",
       " ('intel', 4379),\n",
       " ('cbs', 4121),\n",
       " ('abc', 3490),\n",
       " ('samsung', 3469),\n",
       " ('cnn', 3464),\n",
       " ('fda', 3269),\n",
       " ('quantum', 2676),\n",
       " ('npr', 2667),\n",
       " ('npr news', 2592),\n",
       " ('sony', 2542),\n",
       " ('congress', 2526),\n",
       " ('sec', 2498),\n",
       " ('white house', 2389),\n",
       " ('ford', 2245),\n",
       " ('nbc', 2199)]"
      ]
     },
     "execution_count": 12,
     "metadata": {},
     "output_type": "execute_result"
    }
   ],
   "source": [
    "Counter(org_entities_spacy).most_common(20)"
   ]
  },
  {
   "cell_type": "code",
   "execution_count": 13,
   "id": "39fae939-3615-4a39-a0a4-d093a9e6aa57",
   "metadata": {},
   "outputs": [
    {
     "data": {
      "text/plain": [
       "[('android', 1744),\n",
       " ('dashboard logout', 1742),\n",
       " ('bureaucircle', 1707),\n",
       " ('bulgaria burkina', 1642),\n",
       " ('austria azerbaijan', 1626),\n",
       " ('verde cayman island central african', 1618),\n",
       " ('jordan kansa', 1610),\n",
       " ('pichai', 1400),\n",
       " ('sam altman', 1380),\n",
       " ('apps newsplugin', 1204),\n",
       " ('jun cdt', 1149),\n",
       " ('mar cdt', 1006),\n",
       " ('mar pm', 977),\n",
       " ('donald trump', 967),\n",
       " ('joe biden', 946),\n",
       " ('apps', 918),\n",
       " ('bill gate', 874),\n",
       " ('eu', 837),\n",
       " ('mike', 816),\n",
       " ('mar', 811)]"
      ]
     },
     "execution_count": 13,
     "metadata": {},
     "output_type": "execute_result"
    }
   ],
   "source": [
    "Counter(person_entities_spacy).most_common(20)"
   ]
  }
 ],
 "metadata": {
  "environment": {
   "kernel": "python3",
   "name": "common-cpu.m108",
   "type": "gcloud",
   "uri": "gcr.io/deeplearning-platform-release/base-cpu:m108"
  },
  "kernelspec": {
   "display_name": "Python 3",
   "language": "python",
   "name": "python3"
  },
  "language_info": {
   "codemirror_mode": {
    "name": "ipython",
    "version": 3
   },
   "file_extension": ".py",
   "mimetype": "text/x-python",
   "name": "python",
   "nbconvert_exporter": "python",
   "pygments_lexer": "ipython3",
   "version": "3.10.10"
  }
 },
 "nbformat": 4,
 "nbformat_minor": 5
}
