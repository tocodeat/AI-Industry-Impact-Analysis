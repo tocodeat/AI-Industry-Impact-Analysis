{
 "cells": [
  {
   "cell_type": "code",
   "execution_count": 1,
   "id": "3b45dbf1-7bf6-4ce3-83f8-66efd1cce632",
   "metadata": {},
   "outputs": [],
   "source": [
    "import pandas as pd\n",
    "import numpy as np\n",
    "import matplotlib.pyplot as plt\n",
    "from IPython.display import clear_output"
   ]
  },
  {
   "cell_type": "code",
   "execution_count": 2,
   "id": "b6d7f64b-15a3-47ca-839a-b42f8f215f94",
   "metadata": {},
   "outputs": [
    {
     "name": "stdout",
     "output_type": "stream",
     "text": [
      "Installed gensim, pyLDAvis\n"
     ]
    }
   ],
   "source": [
    "!pip install gensim\n",
    "!pip install pyLDAvis\n",
    "clear_output(wait=True)\n",
    "\n",
    "print(\"Installed gensim, pyLDAvis\")"
   ]
  },
  {
   "cell_type": "code",
   "execution_count": 3,
   "id": "e24513e8-f1c8-4764-8c37-8fb488b9ab21",
   "metadata": {},
   "outputs": [
    {
     "name": "stdout",
     "output_type": "stream",
     "text": [
      "\u001b[33mWARNING: Ignoring invalid distribution -andas (/opt/conda/lib/python3.10/site-packages)\u001b[0m\u001b[33m\n",
      "\u001b[0mRequirement already satisfied: nltk in /opt/conda/lib/python3.10/site-packages (3.8.1)\n",
      "Requirement already satisfied: click in /opt/conda/lib/python3.10/site-packages (from nltk) (8.1.3)\n",
      "Requirement already satisfied: joblib in /opt/conda/lib/python3.10/site-packages (from nltk) (1.2.0)\n",
      "Requirement already satisfied: regex>=2021.8.3 in /opt/conda/lib/python3.10/site-packages (from nltk) (2023.5.5)\n",
      "Requirement already satisfied: tqdm in /opt/conda/lib/python3.10/site-packages (from nltk) (4.64.1)\n",
      "\u001b[33mWARNING: Ignoring invalid distribution -andas (/opt/conda/lib/python3.10/site-packages)\u001b[0m\u001b[33m\n",
      "\u001b[0m"
     ]
    }
   ],
   "source": [
    "!pip install nltk"
   ]
  },
  {
   "cell_type": "code",
   "execution_count": 4,
   "id": "aee4711e-499e-4cc2-911f-89ba09c4ba01",
   "metadata": {},
   "outputs": [
    {
     "name": "stdout",
     "output_type": "stream",
     "text": [
      "Downloaded spacy curpus\n"
     ]
    }
   ],
   "source": [
    "!pip install spacy --user\n",
    "\n",
    "!python3 -m spacy download en_core_web_sm\n",
    "clear_output(wait=True)\n",
    "\n",
    "print(\"Downloaded spacy curpus\")"
   ]
  },
  {
   "cell_type": "code",
   "execution_count": 5,
   "id": "7558fd60-42c0-4698-9ee0-2b3433a6a971",
   "metadata": {},
   "outputs": [
    {
     "name": "stdout",
     "output_type": "stream",
     "text": [
      "\u001b[33mWARNING: Ignoring invalid distribution -andas (/opt/conda/lib/python3.10/site-packages)\u001b[0m\u001b[33m\n",
      "\u001b[0mRequirement already satisfied: pandarallel in /opt/conda/lib/python3.10/site-packages (1.6.5)\n",
      "Requirement already satisfied: dill>=0.3.1 in /opt/conda/lib/python3.10/site-packages (from pandarallel) (0.3.6)\n",
      "Requirement already satisfied: pandas>=1 in /opt/conda/lib/python3.10/site-packages (from pandarallel) (2.0.1)\n",
      "Requirement already satisfied: psutil in /opt/conda/lib/python3.10/site-packages (from pandarallel) (5.9.3)\n",
      "Requirement already satisfied: python-dateutil>=2.8.2 in /opt/conda/lib/python3.10/site-packages (from pandas>=1->pandarallel) (2.8.2)\n",
      "Requirement already satisfied: pytz>=2020.1 in /opt/conda/lib/python3.10/site-packages (from pandas>=1->pandarallel) (2023.3)\n",
      "Requirement already satisfied: tzdata>=2022.1 in /opt/conda/lib/python3.10/site-packages (from pandas>=1->pandarallel) (2023.3)\n",
      "Requirement already satisfied: numpy>=1.21.0 in /opt/conda/lib/python3.10/site-packages (from pandas>=1->pandarallel) (1.24.3)\n",
      "Requirement already satisfied: six>=1.5 in /opt/conda/lib/python3.10/site-packages (from python-dateutil>=2.8.2->pandas>=1->pandarallel) (1.16.0)\n",
      "\u001b[33mWARNING: Ignoring invalid distribution -andas (/opt/conda/lib/python3.10/site-packages)\u001b[0m\u001b[33m\n",
      "\u001b[0m"
     ]
    }
   ],
   "source": [
    "!pip install pandarallel\n",
    "\n",
    "clear_output(wait=True)"
   ]
  },
  {
   "cell_type": "code",
   "execution_count": 6,
   "id": "8b30bc1d-2b4b-4719-8d42-adfcbfaf159c",
   "metadata": {},
   "outputs": [
    {
     "name": "stdout",
     "output_type": "stream",
     "text": [
      "\u001b[33mWARNING: Ignoring invalid distribution -andas (/opt/conda/lib/python3.10/site-packages)\u001b[0m\u001b[33m\n",
      "\u001b[0mRequirement already satisfied: numpy in /opt/conda/lib/python3.10/site-packages (1.24.3)\n",
      "\u001b[33mWARNING: Ignoring invalid distribution -andas (/opt/conda/lib/python3.10/site-packages)\u001b[0m\u001b[33m\n",
      "\u001b[0m"
     ]
    }
   ],
   "source": [
    "!pip install --upgrade numpy"
   ]
  },
  {
   "cell_type": "code",
   "execution_count": 7,
   "id": "444a5695-c1ee-4afd-92d0-2fcf2299c802",
   "metadata": {},
   "outputs": [],
   "source": [
    "import nltk as nltk\n",
    "import gensim\n",
    "from gensim import corpora, models\n",
    "from gensim.utils import simple_preprocess\n",
    "from gensim.models import CoherenceModel\n",
    "from gensim.models import Phrases\n",
    "from gensim.models.ldamodel import LdaModel\n",
    "from gensim.models.ldamulticore import LdaMulticore\n",
    "import pyLDAvis\n",
    "import pyLDAvis.gensim_models as gensimvis"
   ]
  },
  {
   "cell_type": "code",
   "execution_count": 8,
   "id": "513dbe98-d236-451a-80ec-ed81888c3a7a",
   "metadata": {},
   "outputs": [
    {
     "name": "stdout",
     "output_type": "stream",
     "text": [
      "\u001b[33mWARNING: Ignoring invalid distribution -andas (/opt/conda/lib/python3.10/site-packages)\u001b[0m\u001b[33m\n",
      "\u001b[0mRequirement already satisfied: nltk in /opt/conda/lib/python3.10/site-packages (3.8.1)\n",
      "Requirement already satisfied: click in /opt/conda/lib/python3.10/site-packages (from nltk) (8.1.3)\n",
      "Requirement already satisfied: joblib in /opt/conda/lib/python3.10/site-packages (from nltk) (1.2.0)\n",
      "Requirement already satisfied: regex>=2021.8.3 in /opt/conda/lib/python3.10/site-packages (from nltk) (2023.5.5)\n",
      "Requirement already satisfied: tqdm in /opt/conda/lib/python3.10/site-packages (from nltk) (4.64.1)\n",
      "\u001b[33mWARNING: Ignoring invalid distribution -andas (/opt/conda/lib/python3.10/site-packages)\u001b[0m\u001b[33m\n",
      "\u001b[0m\u001b[33mWARNING: Ignoring invalid distribution -andas (/opt/conda/lib/python3.10/site-packages)\u001b[0m\u001b[33m\n",
      "\u001b[0mRequirement already satisfied: gensim in /opt/conda/lib/python3.10/site-packages (4.3.1)\n",
      "Requirement already satisfied: numpy>=1.18.5 in /opt/conda/lib/python3.10/site-packages (from gensim) (1.24.3)\n",
      "Requirement already satisfied: scipy>=1.7.0 in /opt/conda/lib/python3.10/site-packages (from gensim) (1.9.3)\n",
      "Requirement already satisfied: smart-open>=1.8.1 in /opt/conda/lib/python3.10/site-packages (from gensim) (6.3.0)\n",
      "\u001b[33mWARNING: Ignoring invalid distribution -andas (/opt/conda/lib/python3.10/site-packages)\u001b[0m\u001b[33m\n",
      "\u001b[0m"
     ]
    }
   ],
   "source": [
    "!pip install --upgrade nltk\n",
    "!pip install --upgrade gensim"
   ]
  },
  {
   "cell_type": "code",
   "execution_count": 9,
   "id": "9a9a3693-3c81-4b1e-92cd-9fffd0a73b82",
   "metadata": {},
   "outputs": [
    {
     "name": "stdout",
     "output_type": "stream",
     "text": [
      "Loaded spacy without parser, NER\n"
     ]
    }
   ],
   "source": [
    "import spacy\n",
    "nlp = spacy.load(\"en_core_web_sm\", disable=['parser', 'ner'])\n",
    "\n",
    "clear_output(wait=True)\n",
    "\n",
    "print(\"Loaded spacy without parser, NER\")"
   ]
  },
  {
   "cell_type": "code",
   "execution_count": 10,
   "id": "54e56a50-73a3-441a-a7f0-26357cdd8e15",
   "metadata": {},
   "outputs": [
    {
     "name": "stdout",
     "output_type": "stream",
     "text": [
      "Available CPUs: 16\n"
     ]
    }
   ],
   "source": [
    "from pandarallel import pandarallel\n",
    "import multiprocessing\n",
    "num_processors = multiprocessing.cpu_count()\n",
    "workers = num_processors-1\n",
    "print(f'Available CPUs: {num_processors}')"
   ]
  },
  {
   "cell_type": "code",
   "execution_count": 11,
   "id": "b50c95a3-ce09-4ebf-91fd-da956d73a0d2",
   "metadata": {},
   "outputs": [],
   "source": [
    "import os\n",
    "os.environ[\"GCLOUD_PROJECT\"] = \"sonorous-reach-380221\""
   ]
  },
  {
   "cell_type": "code",
   "execution_count": 14,
   "id": "8c22be42-d073-47a2-b58c-749c7cd2309b",
   "metadata": {},
   "outputs": [
    {
     "data": {
      "text/html": [
       "<div>\n",
       "<style scoped>\n",
       "    .dataframe tbody tr th:only-of-type {\n",
       "        vertical-align: middle;\n",
       "    }\n",
       "\n",
       "    .dataframe tbody tr th {\n",
       "        vertical-align: top;\n",
       "    }\n",
       "\n",
       "    .dataframe thead th {\n",
       "        text-align: right;\n",
       "    }\n",
       "</style>\n",
       "<table border=\"1\" class=\"dataframe\">\n",
       "  <thead>\n",
       "    <tr style=\"text-align: right;\">\n",
       "      <th></th>\n",
       "      <th>token_text</th>\n",
       "    </tr>\n",
       "  </thead>\n",
       "  <tbody>\n",
       "    <tr>\n",
       "      <th>0</th>\n",
       "      <td>artificial intelligence improves parking effic...</td>\n",
       "    </tr>\n",
       "    <tr>\n",
       "      <th>1</th>\n",
       "      <td>child autism saw learning social skill boosted...</td>\n",
       "    </tr>\n",
       "  </tbody>\n",
       "</table>\n",
       "</div>"
      ],
      "text/plain": [
       "                                          token_text\n",
       "0  artificial intelligence improves parking effic...\n",
       "1  child autism saw learning social skill boosted..."
      ]
     },
     "execution_count": 14,
     "metadata": {},
     "output_type": "execute_result"
    }
   ],
   "source": [
    "df = pd.read_csv('df_news_recomb.csv')\n",
    "df.head(2)"
   ]
  },
  {
   "cell_type": "code",
   "execution_count": 15,
   "id": "43b71929-abe1-4d4a-9bf1-cc87ed9e45ce",
   "metadata": {},
   "outputs": [],
   "source": [
    "def news_tokenize(text):\n",
    "    \n",
    "    import nltk\n",
    "    \n",
    "    #Tokenize\n",
    "    tokens = nltk.word_tokenize(text)\n",
    "    \n",
    "    return tokens"
   ]
  },
  {
   "cell_type": "code",
   "execution_count": 16,
   "id": "37b698db-09f1-4499-82d9-e9190ab54894",
   "metadata": {},
   "outputs": [
    {
     "name": "stdout",
     "output_type": "stream",
     "text": [
      "INFO: Pandarallel will run on 15 workers.\n",
      "INFO: Pandarallel will use standard multiprocessing data transfer (pipe) to transfer data between the main process and workers.\n"
     ]
    }
   ],
   "source": [
    "pandarallel.initialize(nb_workers=num_processors-1, use_memory_fs=False)"
   ]
  },
  {
   "cell_type": "code",
   "execution_count": 17,
   "id": "79c1f7d8-c661-4419-8dcd-2eaf47187a94",
   "metadata": {},
   "outputs": [],
   "source": [
    "# nltk.download('punkt')"
   ]
  },
  {
   "cell_type": "code",
   "execution_count": 19,
   "id": "72898dc3-aa4f-44de-848b-6378315f4921",
   "metadata": {},
   "outputs": [
    {
     "data": {
      "text/html": [
       "<div>\n",
       "<style scoped>\n",
       "    .dataframe tbody tr th:only-of-type {\n",
       "        vertical-align: middle;\n",
       "    }\n",
       "\n",
       "    .dataframe tbody tr th {\n",
       "        vertical-align: top;\n",
       "    }\n",
       "\n",
       "    .dataframe thead th {\n",
       "        text-align: right;\n",
       "    }\n",
       "</style>\n",
       "<table border=\"1\" class=\"dataframe\">\n",
       "  <thead>\n",
       "    <tr style=\"text-align: right;\">\n",
       "      <th></th>\n",
       "      <th>token_text</th>\n",
       "      <th>tokens</th>\n",
       "    </tr>\n",
       "  </thead>\n",
       "  <tbody>\n",
       "    <tr>\n",
       "      <th>0</th>\n",
       "      <td>artificial intelligence improves parking effic...</td>\n",
       "      <td>[artificial, intelligence, improves, parking, ...</td>\n",
       "    </tr>\n",
       "    <tr>\n",
       "      <th>1</th>\n",
       "      <td>child autism saw learning social skill boosted...</td>\n",
       "      <td>[child, autism, saw, learning, social, skill, ...</td>\n",
       "    </tr>\n",
       "    <tr>\n",
       "      <th>2</th>\n",
       "      <td>forget ml ai industry obsolescence focus test ...</td>\n",
       "      <td>[forget, ml, ai, industry, obsolescence, focus...</td>\n",
       "    </tr>\n",
       "    <tr>\n",
       "      <th>3</th>\n",
       "      <td>strategy analytics smartphones sold globally a...</td>\n",
       "      <td>[strategy, analytics, smartphones, sold, globa...</td>\n",
       "    </tr>\n",
       "    <tr>\n",
       "      <th>4</th>\n",
       "      <td>olympus support endoscopic ai diagnosis educat...</td>\n",
       "      <td>[olympus, support, endoscopic, ai, diagnosis, ...</td>\n",
       "    </tr>\n",
       "  </tbody>\n",
       "</table>\n",
       "</div>"
      ],
      "text/plain": [
       "                                          token_text   \n",
       "0  artificial intelligence improves parking effic...  \\\n",
       "1  child autism saw learning social skill boosted...   \n",
       "2  forget ml ai industry obsolescence focus test ...   \n",
       "3  strategy analytics smartphones sold globally a...   \n",
       "4  olympus support endoscopic ai diagnosis educat...   \n",
       "\n",
       "                                              tokens  \n",
       "0  [artificial, intelligence, improves, parking, ...  \n",
       "1  [child, autism, saw, learning, social, skill, ...  \n",
       "2  [forget, ml, ai, industry, obsolescence, focus...  \n",
       "3  [strategy, analytics, smartphones, sold, globa...  \n",
       "4  [olympus, support, endoscopic, ai, diagnosis, ...  "
      ]
     },
     "execution_count": 19,
     "metadata": {},
     "output_type": "execute_result"
    }
   ],
   "source": [
    "df['tokens'] = df['token_text'].parallel_apply(news_tokenize)\n",
    "df.head()"
   ]
  },
  {
   "cell_type": "code",
   "execution_count": 25,
   "id": "47e45f54-8d48-457e-bbb6-baa330f4f200",
   "metadata": {},
   "outputs": [
    {
     "name": "stdout",
     "output_type": "stream",
     "text": [
      "Number of unique tokens: 309486\n",
      "Number of documents: 152522\n",
      "CPU times: user 59.9 s, sys: 947 ms, total: 1min\n",
      "Wall time: 1min\n"
     ]
    }
   ],
   "source": [
    "# Creating the term dictionary of our courpus, where every unique term is assigned an index. \n",
    "news_text_dictionary = corpora.Dictionary(df['tokens']) #df_news_sample[\"tokens\"])\n",
    "\n",
    "# Converting list of documents (corpus) into Document Term Matrix using dictionary prepared above.\n",
    "news_text_doc_term_matrix = [news_text_dictionary.doc2bow(text) for text in df['tokens']] #df_news_sample[\"tokens\"]]\n",
    "\n",
    "print(f'Number of unique tokens: {len(news_text_dictionary)}')\n",
    "print(f'Number of documents: {len(news_text_doc_term_matrix)}')"
   ]
  },
  {
   "cell_type": "code",
   "execution_count": 26,
   "id": "9b6ff8a3-b35c-4c9d-b1f2-e30d590d052b",
   "metadata": {},
   "outputs": [
    {
     "name": "stdout",
     "output_type": "stream",
     "text": [
      "CPU times: user 2min 53s, sys: 15.2 s, total: 3min 8s\n",
      "Wall time: 3min 2s\n"
     ]
    }
   ],
   "source": [
    "%%time\n",
    "\n",
    "lda_model = LdaMulticore(corpus=news_text_doc_term_matrix,\n",
    "                   id2word=news_text_dictionary,\n",
    "                   num_topics=10,\n",
    "                   random_state=100,\n",
    "                   passes=10,\n",
    "                   eta='auto',\n",
    "                   workers=workers)"
   ]
  },
  {
   "cell_type": "code",
   "execution_count": 27,
   "id": "a9fb4728-f735-4cf5-a1d9-bad9bf16af50",
   "metadata": {},
   "outputs": [
    {
     "name": "stdout",
     "output_type": "stream",
     "text": [
      "\n",
      "Coherence Score:  0.4592429961697757\n"
     ]
    }
   ],
   "source": [
    "coherence_model_lda = CoherenceModel(model=lda_model, texts = df['tokens'], dictionary=news_text_dictionary, coherence='c_v')\n",
    "print('\\nCoherence Score: ', coherence_model_lda.get_coherence())"
   ]
  },
  {
   "cell_type": "code",
   "execution_count": 28,
   "id": "3dd456b4-d656-4bb0-ab42-281eefd00ae0",
   "metadata": {},
   "outputs": [
    {
     "name": "stdout",
     "output_type": "stream",
     "text": [
      "(0, '0.010*\"newswires\" + 0.006*\"country\" + 0.006*\"crypto\" + 0.006*\"news\" + 0.006*\"republic\" + 0.006*\"industry\" + 0.005*\"international\"')\n",
      "\n",
      "(1, '0.027*\"ai\" + 0.011*\"learning\" + 0.011*\"machine\" + 0.008*\"product\" + 0.007*\"follow\" + 0.006*\"share\" + 0.006*\"venturebeat\"')\n",
      "\n",
      "(2, '0.023*\"news\" + 0.019*\"business\" + 0.016*\"service\" + 0.013*\"technology\" + 0.011*\"financial\" + 0.010*\"entertainment\" + 0.009*\"real\"')\n",
      "\n",
      "(3, '0.019*\"news\" + 0.010*\"business\" + 0.009*\"ai\" + 0.007*\"market\" + 0.007*\"best\" + 0.007*\"review\" + 0.007*\"tech\"')\n",
      "\n",
      "(4, '0.032*\"news\" + 0.013*\"search\" + 0.012*\"schedule\" + 0.009*\"business\" + 0.008*\"music\" + 0.007*\"local\" + 0.007*\"program\"')\n",
      "\n",
      "(5, '0.031*\"ai\" + 0.012*\"data\" + 0.009*\"solution\" + 0.008*\"platform\" + 0.008*\"technology\" + 0.007*\"company\" + 0.007*\"customer\"')\n",
      "\n",
      "(6, '0.021*\"ai\" + 0.011*\"chatgpt\" + 0.010*\"new\" + 0.007*\"google\" + 0.005*\"news\" + 0.005*\"company\" + 0.005*\"said\"')\n",
      "\n",
      "(7, '0.020*\"ai\" + 0.013*\"data\" + 0.012*\"intelligence\" + 0.010*\"artificial\" + 0.010*\"technology\" + 0.008*\"science\" + 0.007*\"learning\"')\n",
      "\n",
      "(8, '0.024*\"news\" + 0.012*\"video\" + 0.012*\"weather\" + 0.011*\"sport\" + 0.009*\"ago\" + 0.007*\"search\" + 0.007*\"local\"')\n",
      "\n",
      "(9, '0.024*\"ai\" + 0.010*\"health\" + 0.009*\"patient\" + 0.007*\"medical\" + 0.007*\"technology\" + 0.006*\"clinical\" + 0.006*\"intelligence\"')\n"
     ]
    }
   ],
   "source": [
    "print(*lda_model.print_topics(num_topics = 10, num_words = 7), sep='\\n\\n')"
   ]
  },
  {
   "cell_type": "code",
   "execution_count": 31,
   "id": "9c054a80-0b6c-48f9-9ab8-819501713466",
   "metadata": {},
   "outputs": [
    {
     "name": "stdout",
     "output_type": "stream",
     "text": [
      "LDA will execute 9 iterations\n",
      "Completed model based on 4 LDA topics. Finished 11.1% of LDA runs\n",
      "Execution time to calculate for topic 4: 0hour:3min:42sec\n",
      "Completed model based on 6 LDA topics. Finished 22.2% of LDA runs\n",
      "Execution time to calculate for topic 6: 0hour:4min:2sec\n",
      "Completed model based on 8 LDA topics. Finished 33.3% of LDA runs\n",
      "Execution time to calculate for topic 8: 0hour:4min:15sec\n",
      "Completed model based on 10 LDA topics. Finished 44.4% of LDA runs\n",
      "Execution time to calculate for topic 10: 0hour:4min:33sec\n",
      "Completed model based on 12 LDA topics. Finished 55.6% of LDA runs\n",
      "Execution time to calculate for topic 12: 0hour:4min:55sec\n",
      "Completed model based on 14 LDA topics. Finished 66.7% of LDA runs\n",
      "Execution time to calculate for topic 14: 0hour:5min:14sec\n",
      "Completed model based on 16 LDA topics. Finished 77.8% of LDA runs\n",
      "Execution time to calculate for topic 16: 0hour:5min:29sec\n",
      "Completed model based on 18 LDA topics. Finished 88.9% of LDA runs\n",
      "Execution time to calculate for topic 18: 0hour:5min:31sec\n",
      "Completed model based on 20 LDA topics. Finished 100.0% of LDA runs\n",
      "Execution time to calculate for topic 20: 0hour:6min:2sec\n",
      "CPU times: user 28min 43s, sys: 5min 3s, total: 33min 46s\n",
      "Wall time: 43min 44s\n"
     ]
    }
   ],
   "source": [
    "def compute_coherence_values(doc_term_matrix, dictionary, k, a, b, text, coherence = 'c_v'):\n",
    "    \n",
    "    lda_model = LdaMulticore(corpus = doc_term_matrix,\n",
    "                       id2word = dictionary,\n",
    "                       num_topics = k,\n",
    "                       random_state = 100,                  \n",
    "                       passes = 10,\n",
    "                       alpha = a,\n",
    "                       eta = b,\n",
    "                       workers=workers)\n",
    "    \n",
    "    coherence_model_lda = CoherenceModel(model = lda_model,\n",
    "                                         texts=text,\n",
    "                                         dictionary = dictionary,\n",
    "                                         coherence=coherence)\n",
    "    \n",
    "    return coherence_model_lda.get_coherence()\n",
    "\n",
    "import time \n",
    "start_time = time.time()\n",
    "\n",
    "def tic():\n",
    "    global start_time \n",
    "    start_time = time.time()\n",
    "\n",
    "def tac():\n",
    "    t_sec = round(time.time() - start_time)\n",
    "    (t_min, t_sec) = divmod(t_sec,60)\n",
    "    (t_hour,t_min) = divmod(t_min,60) \n",
    "    print(f'Execution time to calculate for topic {k}: {t_hour}hour:{t_min}min:{t_sec}sec'.format(t_hour,\n",
    "                                                                                                  t_min,t_sec))\n",
    "\n",
    "grid = {}\n",
    "grid['Validation_Set'] = {}\n",
    "# Topics range\n",
    "min_topics = 4\n",
    "max_topics = 20\n",
    "step_size = 2\n",
    "topics_range = range(min_topics, max_topics+1, step_size)\n",
    "\n",
    "alpha = ['asymmetric'] \n",
    "\n",
    "beta = ['auto']\n",
    "\n",
    "# Validation sets\n",
    "num_of_docs = len(news_text_doc_term_matrix)\n",
    "corpus_sets = [news_text_doc_term_matrix]\n",
    "\n",
    "corpus_title = ['100% Corpus']\n",
    "model_results = {\n",
    "                 'Topics': [],\n",
    "                 'Alpha': [],\n",
    "                 'Beta': [],\n",
    "                 'Coherence': []\n",
    "                }\n",
    "\n",
    "itr = 0\n",
    "itr_total = len(beta)*len(alpha)*len(topics_range)*len(corpus_title)\n",
    "print(f'LDA will execute {itr_total} iterations')\n",
    "\n",
    "    \n",
    "# iterate through hyperparameters\n",
    "for i in range(len(corpus_sets)):\n",
    "    # iterate through number of topics\n",
    "    for k in topics_range:\n",
    "        # iterate through alpha values\n",
    "        tic()\n",
    "        for a in alpha:\n",
    "            # iterare through beta values\n",
    "            for b in beta:\n",
    "                # get the coherence score for the given parameters\n",
    "                itr += 1\n",
    "                cv = compute_coherence_values(doc_term_matrix = corpus_sets[i],\n",
    "                                              dictionary = news_text_dictionary, \n",
    "                                              k=k, a=a, b=b,\n",
    "                                              text = df['tokens'],\n",
    "                                              coherence = 'c_v')\n",
    "                # Save the model results\n",
    "                model_results['Topics'].append(k)\n",
    "                model_results['Alpha'].append(a)\n",
    "                model_results['Beta'].append(b)\n",
    "                model_results['Coherence'].append(cv)\n",
    "                pct_completed = round((itr / itr_total * 100),1)\n",
    "#                 print(f'Completed Percent: {pct_completed}%, Corpus: {corpus_title[i]}, Topics: {k}, Alpha: {a}, Beta: {b}, Coherence: {cv}')\n",
    "        print(f'Completed model based on {k} LDA topics. Finished {pct_completed}% of LDA runs')\n",
    "        tac()"
   ]
  },
  {
   "cell_type": "code",
   "execution_count": 32,
   "id": "7f53a4bb-ceb4-4a2d-aa21-187e591596f5",
   "metadata": {},
   "outputs": [
    {
     "data": {
      "text/html": [
       "<div>\n",
       "<style scoped>\n",
       "    .dataframe tbody tr th:only-of-type {\n",
       "        vertical-align: middle;\n",
       "    }\n",
       "\n",
       "    .dataframe tbody tr th {\n",
       "        vertical-align: top;\n",
       "    }\n",
       "\n",
       "    .dataframe thead th {\n",
       "        text-align: right;\n",
       "    }\n",
       "</style>\n",
       "<table border=\"1\" class=\"dataframe\">\n",
       "  <thead>\n",
       "    <tr style=\"text-align: right;\">\n",
       "      <th></th>\n",
       "      <th>Topics</th>\n",
       "      <th>Alpha</th>\n",
       "      <th>Beta</th>\n",
       "      <th>Coherence</th>\n",
       "    </tr>\n",
       "  </thead>\n",
       "  <tbody>\n",
       "    <tr>\n",
       "      <th>7</th>\n",
       "      <td>18</td>\n",
       "      <td>asymmetric</td>\n",
       "      <td>auto</td>\n",
       "      <td>0.480078</td>\n",
       "    </tr>\n",
       "    <tr>\n",
       "      <th>6</th>\n",
       "      <td>16</td>\n",
       "      <td>asymmetric</td>\n",
       "      <td>auto</td>\n",
       "      <td>0.472296</td>\n",
       "    </tr>\n",
       "    <tr>\n",
       "      <th>8</th>\n",
       "      <td>20</td>\n",
       "      <td>asymmetric</td>\n",
       "      <td>auto</td>\n",
       "      <td>0.471578</td>\n",
       "    </tr>\n",
       "    <tr>\n",
       "      <th>5</th>\n",
       "      <td>14</td>\n",
       "      <td>asymmetric</td>\n",
       "      <td>auto</td>\n",
       "      <td>0.465314</td>\n",
       "    </tr>\n",
       "    <tr>\n",
       "      <th>4</th>\n",
       "      <td>12</td>\n",
       "      <td>asymmetric</td>\n",
       "      <td>auto</td>\n",
       "      <td>0.459886</td>\n",
       "    </tr>\n",
       "    <tr>\n",
       "      <th>1</th>\n",
       "      <td>6</td>\n",
       "      <td>asymmetric</td>\n",
       "      <td>auto</td>\n",
       "      <td>0.457580</td>\n",
       "    </tr>\n",
       "    <tr>\n",
       "      <th>3</th>\n",
       "      <td>10</td>\n",
       "      <td>asymmetric</td>\n",
       "      <td>auto</td>\n",
       "      <td>0.454408</td>\n",
       "    </tr>\n",
       "    <tr>\n",
       "      <th>2</th>\n",
       "      <td>8</td>\n",
       "      <td>asymmetric</td>\n",
       "      <td>auto</td>\n",
       "      <td>0.449034</td>\n",
       "    </tr>\n",
       "    <tr>\n",
       "      <th>0</th>\n",
       "      <td>4</td>\n",
       "      <td>asymmetric</td>\n",
       "      <td>auto</td>\n",
       "      <td>0.419193</td>\n",
       "    </tr>\n",
       "  </tbody>\n",
       "</table>\n",
       "</div>"
      ],
      "text/plain": [
       "   Topics       Alpha  Beta  Coherence\n",
       "7      18  asymmetric  auto   0.480078\n",
       "6      16  asymmetric  auto   0.472296\n",
       "8      20  asymmetric  auto   0.471578\n",
       "5      14  asymmetric  auto   0.465314\n",
       "4      12  asymmetric  auto   0.459886\n",
       "1       6  asymmetric  auto   0.457580\n",
       "3      10  asymmetric  auto   0.454408\n",
       "2       8  asymmetric  auto   0.449034\n",
       "0       4  asymmetric  auto   0.419193"
      ]
     },
     "execution_count": 32,
     "metadata": {},
     "output_type": "execute_result"
    }
   ],
   "source": [
    "lda_tuning = pd.DataFrame(model_results)\n",
    "lda_tuning.sort_values(by=['Coherence'], ascending=False).head(10)"
   ]
  },
  {
   "cell_type": "code",
   "execution_count": 33,
   "id": "7869cd6f-058b-4bcc-bb9c-077c995fc346",
   "metadata": {},
   "outputs": [
    {
     "data": {
      "image/png": "[encoded data removed]",
      "text/plain": [
       "<Figure size 640x480 with 1 Axes>"
      ]
     },
     "metadata": {},
     "output_type": "display_data"
    }
   ],
   "source": [
    "lda_tuning.plot(x ='Topics', y='Coherence', kind = 'line', xticks=range(2,16), color = 'green')\n",
    "plt.grid(False)\n",
    "plt.show()"
   ]
  },
  {
   "cell_type": "code",
   "execution_count": 41,
   "id": "77000b8f-d985-446c-a45d-86a0547cfa6a",
   "metadata": {},
   "outputs": [
    {
     "name": "stdout",
     "output_type": "stream",
     "text": [
      "LDA will execute 12 iterations\n",
      "Completed model based on 18 LDA topics. Finished 100.0% of LDA runs\n",
      "Execution time to calculate for topic 18: 1hour:8min:23sec\n",
      "CPU times: user 42min 48s, sys: 6min 36s, total: 49min 25s\n",
      "Wall time: 1h 8min 23s\n"
     ]
    }
   ],
   "source": [
    "grid = {}\n",
    "grid['Validation_Set'] = {}\n",
    "# Topics range\n",
    "min_topics = 18\n",
    "max_topics = 18\n",
    "step_size = 2\n",
    "topics_range = range(min_topics, max_topics+1, step_size)\n",
    "\n",
    "# # Alpha parameter\n",
    "alpha = list(np.arange(0.01, 1, 0.495))\n",
    "alpha.append('symmetric')\n",
    "alpha.append('asymmetric')\n",
    "# alpha = ['asymmetric'] # Run for number of topics only\n",
    "\n",
    "# Beta parameter\n",
    "beta = list(np.arange(0.01, 1, 0.495))\n",
    "beta.append('symmetric')\n",
    "# beta = ['auto'] # Run for number of topics only\n",
    "\n",
    "# Validation sets\n",
    "num_of_docs = len(news_text_doc_term_matrix)\n",
    "corpus_sets = [news_text_doc_term_matrix]\n",
    "\n",
    "corpus_title = ['100% Corpus']\n",
    "model_results = {\n",
    "                 'Topics': [],\n",
    "                 'Alpha': [],\n",
    "                 'Beta': [],\n",
    "                 'Coherence': []\n",
    "                }\n",
    "\n",
    "itr = 0\n",
    "itr_total = len(beta)*len(alpha)*len(topics_range)*len(corpus_title)\n",
    "print(f'LDA will execute {itr_total} iterations')\n",
    "\n",
    "    \n",
    "# iterate through hyperparameters\n",
    "for i in range(len(corpus_sets)):\n",
    "    # iterate through number of topics\n",
    "    for k in topics_range:\n",
    "        # iterate through alpha values\n",
    "        tic()\n",
    "        for a in alpha:\n",
    "            # iterare through beta values\n",
    "            for b in beta:\n",
    "                # get the coherence score for the given parameters\n",
    "                itr += 1\n",
    "                cv = compute_coherence_values(doc_term_matrix = corpus_sets[i],\n",
    "                                              dictionary = news_text_dictionary, \n",
    "                                              k=k, a=a, b=b,\n",
    "                                              text = df['tokens'],\n",
    "                                              coherence = 'c_v')\n",
    "                # Save the model results\n",
    "                model_results['Topics'].append(k)\n",
    "                model_results['Alpha'].append(a)\n",
    "                model_results['Beta'].append(b)\n",
    "                model_results['Coherence'].append(cv)\n",
    "                pct_completed = round((itr / itr_total * 100),1)\n",
    "#                 print(f'Completed Percent: {pct_completed}%, Corpus: {corpus_title[i]}, Topics: {k}, Alpha: {a}, Beta: {b}, Coherence: {cv}')\n",
    "        print(f'Completed model based on {k} LDA topics. Finished {pct_completed}% of LDA runs')\n",
    "        tac()"
   ]
  },
  {
   "cell_type": "code",
   "execution_count": 42,
   "id": "24ebd246-05b6-4344-96a2-42b206e4139b",
   "metadata": {},
   "outputs": [
    {
     "data": {
      "text/html": [
       "<div>\n",
       "<style scoped>\n",
       "    .dataframe tbody tr th:only-of-type {\n",
       "        vertical-align: middle;\n",
       "    }\n",
       "\n",
       "    .dataframe tbody tr th {\n",
       "        vertical-align: top;\n",
       "    }\n",
       "\n",
       "    .dataframe thead th {\n",
       "        text-align: right;\n",
       "    }\n",
       "</style>\n",
       "<table border=\"1\" class=\"dataframe\">\n",
       "  <thead>\n",
       "    <tr style=\"text-align: right;\">\n",
       "      <th></th>\n",
       "      <th>Topics</th>\n",
       "      <th>Alpha</th>\n",
       "      <th>Beta</th>\n",
       "      <th>Coherence</th>\n",
       "    </tr>\n",
       "  </thead>\n",
       "  <tbody>\n",
       "    <tr>\n",
       "      <th>5</th>\n",
       "      <td>18</td>\n",
       "      <td>0.505</td>\n",
       "      <td>symmetric</td>\n",
       "      <td>0.494073</td>\n",
       "    </tr>\n",
       "    <tr>\n",
       "      <th>11</th>\n",
       "      <td>18</td>\n",
       "      <td>asymmetric</td>\n",
       "      <td>symmetric</td>\n",
       "      <td>0.493805</td>\n",
       "    </tr>\n",
       "    <tr>\n",
       "      <th>9</th>\n",
       "      <td>18</td>\n",
       "      <td>asymmetric</td>\n",
       "      <td>0.01</td>\n",
       "      <td>0.491276</td>\n",
       "    </tr>\n",
       "    <tr>\n",
       "      <th>3</th>\n",
       "      <td>18</td>\n",
       "      <td>0.505</td>\n",
       "      <td>0.01</td>\n",
       "      <td>0.491111</td>\n",
       "    </tr>\n",
       "    <tr>\n",
       "      <th>2</th>\n",
       "      <td>18</td>\n",
       "      <td>0.01</td>\n",
       "      <td>symmetric</td>\n",
       "      <td>0.486712</td>\n",
       "    </tr>\n",
       "    <tr>\n",
       "      <th>4</th>\n",
       "      <td>18</td>\n",
       "      <td>0.505</td>\n",
       "      <td>0.505</td>\n",
       "      <td>0.486615</td>\n",
       "    </tr>\n",
       "    <tr>\n",
       "      <th>10</th>\n",
       "      <td>18</td>\n",
       "      <td>asymmetric</td>\n",
       "      <td>0.505</td>\n",
       "      <td>0.485416</td>\n",
       "    </tr>\n",
       "    <tr>\n",
       "      <th>6</th>\n",
       "      <td>18</td>\n",
       "      <td>symmetric</td>\n",
       "      <td>0.01</td>\n",
       "      <td>0.484704</td>\n",
       "    </tr>\n",
       "    <tr>\n",
       "      <th>0</th>\n",
       "      <td>18</td>\n",
       "      <td>0.01</td>\n",
       "      <td>0.01</td>\n",
       "      <td>0.478243</td>\n",
       "    </tr>\n",
       "    <tr>\n",
       "      <th>8</th>\n",
       "      <td>18</td>\n",
       "      <td>symmetric</td>\n",
       "      <td>symmetric</td>\n",
       "      <td>0.478135</td>\n",
       "    </tr>\n",
       "  </tbody>\n",
       "</table>\n",
       "</div>"
      ],
      "text/plain": [
       "    Topics       Alpha       Beta  Coherence\n",
       "5       18       0.505  symmetric   0.494073\n",
       "11      18  asymmetric  symmetric   0.493805\n",
       "9       18  asymmetric       0.01   0.491276\n",
       "3       18       0.505       0.01   0.491111\n",
       "2       18        0.01  symmetric   0.486712\n",
       "4       18       0.505      0.505   0.486615\n",
       "10      18  asymmetric      0.505   0.485416\n",
       "6       18   symmetric       0.01   0.484704\n",
       "0       18        0.01       0.01   0.478243\n",
       "8       18   symmetric  symmetric   0.478135"
      ]
     },
     "execution_count": 42,
     "metadata": {},
     "output_type": "execute_result"
    }
   ],
   "source": [
    "lda_tuning = pd.DataFrame(model_results)\n",
    "lda_tuning.sort_values(by=['Coherence'], ascending=False).head(10)"
   ]
  },
  {
   "cell_type": "code",
   "execution_count": 44,
   "id": "8e08985b-c45b-407c-a4c4-aad41032119d",
   "metadata": {},
   "outputs": [
    {
     "name": "stdout",
     "output_type": "stream",
     "text": [
      "Best Parameters: Topics: 18, Alpha: 0.505, Beta: symmetric\n"
     ]
    }
   ],
   "source": [
    "lda_tuning_best = lda_tuning.sort_values(by=['Coherence'], ascending=False).head(1)\n",
    "\n",
    "tuned_topics = int(lda_tuning_best['Topics'].to_string(index=False))\n",
    "\n",
    "# Since the values for Alpha and Beta can be float, symmetric and asymmetric, we will either strip or convert to float\n",
    "try:\n",
    "    tuned_alpha = float(lda_tuning_best['Alpha'].to_string(index=False))\n",
    "except:\n",
    "    tuned_alpha = lda_tuning_best['Alpha'].to_string(index=False).strip()\n",
    "\n",
    "try:\n",
    "    tuned_beta = float(lda_tuning_best['Beta'].to_string(index=False))\n",
    "except:\n",
    "    tuned_beta = lda_tuning_best['Beta'].to_string(index=False).strip()    \n",
    "    \n",
    "print(f'Best Parameters: Topics: {tuned_topics}, Alpha: {tuned_alpha}, Beta: {tuned_beta}')"
   ]
  },
  {
   "cell_type": "code",
   "execution_count": null,
   "id": "d3a596cf-8e35-49ae-9526-e4d918be8023",
   "metadata": {},
   "outputs": [],
   "source": [
    "%%time\n",
    "\n",
    "tuned_ldamodel_news_text = LdaMulticore(corpus = news_text_doc_term_matrix,\n",
    "                                      id2word = news_text_dictionary,\n",
    "                                      num_topics=tuned_topics,\n",
    "                                      random_state=100,\n",
    "                                      passes=10,\n",
    "                                      alpha=tuned_alpha,\n",
    "                                      eta=tuned_beta,\n",
    "                                      workers=workers)\n",
    "\n",
    "coherence_model_lda = CoherenceModel(model=tuned_ldamodel_news_text, texts = df['tokens'], dictionary=news_text_dictionary, coherence='c_v')\n",
    "print('\\nCoherence Score: ', coherence_model_lda.get_coherence())"
   ]
  },
  {
   "cell_type": "code",
   "execution_count": null,
   "id": "e2a90768-3e6c-48f3-a8ce-303faa682468",
   "metadata": {},
   "outputs": [],
   "source": [
    "print(*tuned_ldamodel_news_text.print_topics(num_topics = tuned_topics, num_words = 10), sep='\\n\\n')"
   ]
  },
  {
   "cell_type": "code",
   "execution_count": null,
   "id": "dffdb9be-0fc3-467f-94b7-0b67739d62fb",
   "metadata": {},
   "outputs": [],
   "source": [
    "lda_tuning_best = lda_tuning.sort_values(by=['Coherence'], ascending=False)[1:2]\n",
    "\n",
    "tuned_topics = int(lda_tuning_best['Topics'].to_string(index=False))\n",
    "\n",
    "# Since the values for Alpha and Beta can be float, symmetric and asymmetric, we will either strip or convert to float\n",
    "try:\n",
    "    tuned_alpha = float(lda_tuning_best['Alpha'].to_string(index=False))\n",
    "except:\n",
    "    tuned_alpha = lda_tuning_best['Alpha'].to_string(index=False).strip()\n",
    "\n",
    "try:\n",
    "    tuned_beta = float(lda_tuning_best['Beta'].to_string(index=False))\n",
    "except:\n",
    "    tuned_beta = lda_tuning_best['Beta'].to_string(index=False).strip()    \n",
    "    \n",
    "print(f'Best Parameters: Topics: {tuned_topics}, Alpha: {tuned_alpha}, Beta: {tuned_beta}')"
   ]
  },
  {
   "cell_type": "code",
   "execution_count": 49,
   "id": "d51ffd88-9f33-4af6-b78d-5e7fc612959b",
   "metadata": {},
   "outputs": [
    {
     "name": "stdout",
     "output_type": "stream",
     "text": [
      "\n",
      "Coherence Score:  0.49714951867874063\n",
      "CPU times: user 3min 45s, sys: 35.2 s, total: 4min 20s\n",
      "Wall time: 5min 54s\n"
     ]
    }
   ],
   "source": [
    "%%time\n",
    "\n",
    "tuned_ldamodel_news_text = LdaMulticore(corpus = news_text_doc_term_matrix,\n",
    "                                      id2word = news_text_dictionary,\n",
    "                                      num_topics=tuned_topics,\n",
    "                                      random_state=100,\n",
    "                                      passes=10,\n",
    "                                      alpha=tuned_alpha,\n",
    "                                      eta=tuned_beta,\n",
    "                                      workers=workers)\n",
    "\n",
    "coherence_model_lda = CoherenceModel(model=tuned_ldamodel_news_text, texts = df['tokens'], dictionary=news_text_dictionary, coherence='c_v')\n",
    "print('\\nCoherence Score: ', coherence_model_lda.get_coherence())"
   ]
  },
  {
   "cell_type": "code",
   "execution_count": 50,
   "id": "8c7c305b-8262-434c-ae29-89e6c84e77f6",
   "metadata": {},
   "outputs": [
    {
     "name": "stdout",
     "output_type": "stream",
     "text": [
      "(0, '0.012*\"newswires\" + 0.009*\"news\" + 0.008*\"country\" + 0.007*\"republic\" + 0.007*\"industry\" + 0.007*\"ai\" + 0.006*\"international\" + 0.006*\"medium\" + 0.006*\"distribution\" + 0.005*\"music\"')\n",
      "\n",
      "(1, '0.031*\"ai\" + 0.011*\"product\" + 0.010*\"language\" + 0.009*\"model\" + 0.007*\"generative\" + 0.007*\"new\" + 0.007*\"user\" + 0.007*\"chatgpt\" + 0.006*\"technology\" + 0.006*\"tool\"')\n",
      "\n",
      "(2, '0.014*\"news\" + 0.009*\"ai\" + 0.009*\"intelligence\" + 0.008*\"artificial\" + 0.008*\"world\" + 0.007*\"photo\" + 0.007*\"business\" + 0.007*\"video\" + 0.007*\"submit\" + 0.006*\"bc\"')\n",
      "\n",
      "(3, '0.036*\"data\" + 0.011*\"science\" + 0.010*\"business\" + 0.010*\"ai\" + 0.010*\"learning\" + 0.008*\"machine\" + 0.006*\"icon\" + 0.006*\"news\" + 0.006*\"company\" + 0.005*\"intelligence\"')\n",
      "\n",
      "(4, '0.034*\"news\" + 0.015*\"schedule\" + 0.014*\"music\" + 0.013*\"radio\" + 0.013*\"search\" + 0.012*\"program\" + 0.009*\"public\" + 0.008*\"event\" + 0.008*\"air\" + 0.008*\"contact\"')\n",
      "\n",
      "(5, '0.034*\"ai\" + 0.012*\"data\" + 0.011*\"solution\" + 0.009*\"platform\" + 0.007*\"technology\" + 0.007*\"company\" + 0.006*\"customer\" + 0.006*\"new\" + 0.005*\"alert\" + 0.005*\"service\"')\n",
      "\n",
      "(6, '0.023*\"ai\" + 0.012*\"chatgpt\" + 0.012*\"new\" + 0.009*\"google\" + 0.005*\"search\" + 0.005*\"tech\" + 0.005*\"like\" + 0.005*\"image\" + 0.005*\"microsoft\" + 0.005*\"company\"')\n",
      "\n",
      "(7, '0.030*\"ai\" + 0.015*\"intelligence\" + 0.014*\"technology\" + 0.013*\"artificial\" + 0.007*\"data\" + 0.006*\"company\" + 0.006*\"industry\" + 0.006*\"business\" + 0.005*\"new\" + 0.005*\"research\"')\n",
      "\n",
      "(8, '0.027*\"news\" + 0.016*\"weather\" + 0.015*\"video\" + 0.013*\"ago\" + 0.010*\"sport\" + 0.009*\"story\" + 0.009*\"search\" + 0.008*\"local\" + 0.008*\"hour\" + 0.007*\"watch\"')\n",
      "\n",
      "(9, '0.026*\"ai\" + 0.011*\"health\" + 0.011*\"patient\" + 0.008*\"medical\" + 0.007*\"clinical\" + 0.007*\"technology\" + 0.007*\"cancer\" + 0.006*\"artificial\" + 0.006*\"intelligence\" + 0.005*\"disease\"')\n",
      "\n",
      "(10, '0.020*\"news\" + 0.015*\"game\" + 0.012*\"camera\" + 0.010*\"schedule\" + 0.010*\"business\" + 0.010*\"dashboard\" + 0.010*\"valley\" + 0.009*\"search\" + 0.009*\"logout\" + 0.009*\"send\"')\n",
      "\n",
      "(11, '0.020*\"ai\" + 0.011*\"alert\" + 0.009*\"weather\" + 0.009*\"technology\" + 0.008*\"company\" + 0.008*\"music\" + 0.006*\"new\" + 0.006*\"platform\" + 0.005*\"said\" + 0.005*\"country\"')\n",
      "\n",
      "(12, '0.025*\"news\" + 0.014*\"india\" + 0.010*\"ai\" + 0.010*\"world\" + 0.007*\"sport\" + 0.007*\"business\" + 0.005*\"technology\" + 0.005*\"artificial\" + 0.005*\"home\" + 0.005*\"health\"')\n",
      "\n",
      "(13, '0.022*\"news\" + 0.018*\"best\" + 0.008*\"review\" + 0.007*\"ai\" + 0.007*\"learning\" + 0.007*\"home\" + 0.006*\"machine\" + 0.006*\"science\" + 0.006*\"security\" + 0.006*\"internet\"')\n",
      "\n",
      "(14, '0.023*\"business\" + 0.022*\"service\" + 0.019*\"news\" + 0.016*\"financial\" + 0.015*\"technology\" + 0.014*\"real\" + 0.014*\"paid\" + 0.013*\"estate\" + 0.012*\"entertainment\" + 0.012*\"brandvoice\"')\n",
      "\n",
      "(15, '0.025*\"ai\" + 0.012*\"customer\" + 0.007*\"virtual\" + 0.007*\"health\" + 0.006*\"technology\" + 0.006*\"platform\" + 0.005*\"company\" + 0.005*\"healthcare\" + 0.005*\"center\" + 0.005*\"care\"')\n",
      "\n",
      "(16, '0.017*\"news\" + 0.010*\"share\" + 0.010*\"sport\" + 0.010*\"ai\" + 0.010*\"business\" + 0.010*\"twitter\" + 0.009*\"facebook\" + 0.009*\"sign\" + 0.009*\"follow\" + 0.008*\"account\"')\n",
      "\n",
      "(17, '0.019*\"stock\" + 0.017*\"market\" + 0.014*\"fund\" + 0.012*\"ai\" + 0.011*\"share\" + 0.010*\"news\" + 0.009*\"trade\" + 0.009*\"investment\" + 0.008*\"nasdaq\" + 0.008*\"dollar\"')\n"
     ]
    }
   ],
   "source": [
    "print(*tuned_ldamodel_news_text.print_topics(num_topics = tuned_topics, num_words = 10), sep='\\n\\n')"
   ]
  },
  {
   "cell_type": "code",
   "execution_count": 51,
   "id": "76634182-6618-4744-a2a5-6739f8c78f1d",
   "metadata": {},
   "outputs": [
    {
     "name": "stdout",
     "output_type": "stream",
     "text": [
      "Best Parameters: Topics: 18, Alpha: asymmetric, Beta: 0.01\n"
     ]
    }
   ],
   "source": [
    "lda_tuning_best = lda_tuning.sort_values(by=['Coherence'], ascending=False)[2:3]\n",
    "\n",
    "tuned_topics = int(lda_tuning_best['Topics'].to_string(index=False))\n",
    "\n",
    "# Since the values for Alpha and Beta can be float, symmetric and asymmetric, we will either strip or convert to float\n",
    "try:\n",
    "    tuned_alpha = float(lda_tuning_best['Alpha'].to_string(index=False))\n",
    "except:\n",
    "    tuned_alpha = lda_tuning_best['Alpha'].to_string(index=False).strip()\n",
    "\n",
    "try:\n",
    "    tuned_beta = float(lda_tuning_best['Beta'].to_string(index=False))\n",
    "except:\n",
    "    tuned_beta = lda_tuning_best['Beta'].to_string(index=False).strip()    \n",
    "    \n",
    "print(f'Best Parameters: Topics: {tuned_topics}, Alpha: {tuned_alpha}, Beta: {tuned_beta}')"
   ]
  },
  {
   "cell_type": "code",
   "execution_count": 52,
   "id": "d12074ed-8dca-401e-9d64-5a9aeaac2545",
   "metadata": {},
   "outputs": [
    {
     "name": "stdout",
     "output_type": "stream",
     "text": [
      "\n",
      "Coherence Score:  0.49033103719629906\n",
      "CPU times: user 3min 44s, sys: 33.9 s, total: 4min 18s\n",
      "Wall time: 5min 50s\n"
     ]
    }
   ],
   "source": [
    "%%time\n",
    "\n",
    "tuned_ldamodel_news_text = LdaMulticore(corpus = news_text_doc_term_matrix,\n",
    "                                      id2word = news_text_dictionary,\n",
    "                                      num_topics=tuned_topics,\n",
    "                                      random_state=100,\n",
    "                                      passes=10,\n",
    "                                      alpha=tuned_alpha,\n",
    "                                      eta=tuned_beta,\n",
    "                                      workers=workers)\n",
    "\n",
    "coherence_model_lda = CoherenceModel(model=tuned_ldamodel_news_text, texts = df['tokens'], dictionary=news_text_dictionary, coherence='c_v')\n",
    "print('\\nCoherence Score: ', coherence_model_lda.get_coherence())"
   ]
  },
  {
   "cell_type": "code",
   "execution_count": 53,
   "id": "d5f9bb3a-34d6-486b-b565-e168a35575b6",
   "metadata": {},
   "outputs": [
    {
     "name": "stdout",
     "output_type": "stream",
     "text": [
      "(0, '0.012*\"newswires\" + 0.009*\"news\" + 0.008*\"country\" + 0.007*\"republic\" + 0.007*\"ai\" + 0.007*\"industry\" + 0.006*\"international\" + 0.006*\"medium\" + 0.006*\"distribution\" + 0.005*\"island\"')\n",
      "\n",
      "(1, '0.031*\"ai\" + 0.011*\"product\" + 0.009*\"language\" + 0.009*\"model\" + 0.007*\"generative\" + 0.007*\"new\" + 0.006*\"technology\" + 0.006*\"user\" + 0.006*\"chatgpt\" + 0.006*\"tool\"')\n",
      "\n",
      "(2, '0.014*\"news\" + 0.009*\"ai\" + 0.009*\"intelligence\" + 0.009*\"artificial\" + 0.008*\"world\" + 0.007*\"video\" + 0.007*\"business\" + 0.007*\"photo\" + 0.007*\"submit\" + 0.006*\"bc\"')\n",
      "\n",
      "(3, '0.037*\"data\" + 0.012*\"business\" + 0.011*\"science\" + 0.009*\"ai\" + 0.007*\"learning\" + 0.007*\"icon\" + 0.007*\"news\" + 0.006*\"company\" + 0.006*\"machine\" + 0.005*\"intelligence\"')\n",
      "\n",
      "(4, '0.034*\"news\" + 0.014*\"schedule\" + 0.014*\"radio\" + 0.014*\"search\" + 0.014*\"music\" + 0.012*\"program\" + 0.009*\"public\" + 0.008*\"event\" + 0.008*\"air\" + 0.008*\"contact\"')\n",
      "\n",
      "(5, '0.034*\"ai\" + 0.012*\"data\" + 0.011*\"solution\" + 0.008*\"platform\" + 0.007*\"technology\" + 0.007*\"company\" + 0.006*\"customer\" + 0.006*\"new\" + 0.005*\"alert\" + 0.005*\"service\"')\n",
      "\n",
      "(6, '0.022*\"ai\" + 0.012*\"chatgpt\" + 0.012*\"new\" + 0.009*\"google\" + 0.005*\"tech\" + 0.005*\"search\" + 0.005*\"like\" + 0.005*\"company\" + 0.005*\"image\" + 0.005*\"microsoft\"')\n",
      "\n",
      "(7, '0.030*\"ai\" + 0.014*\"intelligence\" + 0.014*\"technology\" + 0.012*\"artificial\" + 0.007*\"data\" + 0.007*\"company\" + 0.006*\"industry\" + 0.006*\"business\" + 0.005*\"new\" + 0.005*\"research\"')\n",
      "\n",
      "(8, '0.027*\"news\" + 0.016*\"weather\" + 0.015*\"video\" + 0.013*\"ago\" + 0.010*\"sport\" + 0.009*\"story\" + 0.009*\"search\" + 0.008*\"local\" + 0.008*\"hour\" + 0.007*\"watch\"')\n",
      "\n",
      "(9, '0.027*\"ai\" + 0.011*\"health\" + 0.011*\"patient\" + 0.008*\"medical\" + 0.007*\"clinical\" + 0.007*\"technology\" + 0.007*\"cancer\" + 0.006*\"artificial\" + 0.006*\"intelligence\" + 0.005*\"care\"')\n",
      "\n",
      "(10, '0.021*\"news\" + 0.016*\"game\" + 0.013*\"camera\" + 0.010*\"business\" + 0.010*\"search\" + 0.010*\"schedule\" + 0.009*\"dashboard\" + 0.009*\"valley\" + 0.009*\"weather\" + 0.008*\"logout\"')\n",
      "\n",
      "(11, '0.021*\"ai\" + 0.011*\"alert\" + 0.009*\"weather\" + 0.009*\"technology\" + 0.008*\"company\" + 0.008*\"music\" + 0.007*\"new\" + 0.006*\"platform\" + 0.006*\"said\" + 0.005*\"country\"')\n",
      "\n",
      "(12, '0.025*\"news\" + 0.013*\"india\" + 0.010*\"ai\" + 0.009*\"world\" + 0.007*\"sport\" + 0.007*\"business\" + 0.006*\"technology\" + 0.005*\"artificial\" + 0.005*\"intelligence\" + 0.005*\"home\"')\n",
      "\n",
      "(13, '0.021*\"news\" + 0.017*\"best\" + 0.010*\"learning\" + 0.009*\"machine\" + 0.007*\"ai\" + 0.007*\"review\" + 0.007*\"science\" + 0.006*\"home\" + 0.005*\"data\" + 0.005*\"security\"')\n",
      "\n",
      "(14, '0.023*\"business\" + 0.022*\"service\" + 0.020*\"news\" + 0.016*\"financial\" + 0.015*\"technology\" + 0.014*\"real\" + 0.014*\"paid\" + 0.013*\"estate\" + 0.012*\"entertainment\" + 0.012*\"brandvoice\"')\n",
      "\n",
      "(15, '0.026*\"ai\" + 0.010*\"customer\" + 0.007*\"virtual\" + 0.007*\"health\" + 0.006*\"technology\" + 0.006*\"company\" + 0.005*\"platform\" + 0.005*\"healthcare\" + 0.005*\"care\" + 0.005*\"new\"')\n",
      "\n",
      "(16, '0.017*\"news\" + 0.010*\"share\" + 0.010*\"ai\" + 0.010*\"sport\" + 0.009*\"business\" + 0.009*\"twitter\" + 0.009*\"facebook\" + 0.009*\"follow\" + 0.009*\"sign\" + 0.008*\"home\"')\n",
      "\n",
      "(17, '0.019*\"stock\" + 0.017*\"market\" + 0.014*\"fund\" + 0.012*\"ai\" + 0.011*\"share\" + 0.010*\"news\" + 0.009*\"investment\" + 0.009*\"trade\" + 0.008*\"nasdaq\" + 0.008*\"screener\"')\n"
     ]
    }
   ],
   "source": [
    "print(*tuned_ldamodel_news_text.print_topics(num_topics = tuned_topics, num_words = 10), sep='\\n\\n')"
   ]
  }
 ],
 "metadata": {
  "environment": {
   "kernel": "python3",
   "name": "common-cpu.m108",
   "type": "gcloud",
   "uri": "gcr.io/deeplearning-platform-release/base-cpu:m108"
  },
  "kernelspec": {
   "display_name": "Python 3",
   "language": "python",
   "name": "python3"
  },
  "language_info": {
   "codemirror_mode": {
    "name": "ipython",
    "version": 3
   },
   "file_extension": ".py",
   "mimetype": "text/x-python",
   "name": "python",
   "nbconvert_exporter": "python",
   "pygments_lexer": "ipython3",
   "version": "3.10.10"
  }
 },
 "nbformat": 4,
 "nbformat_minor": 5
}
