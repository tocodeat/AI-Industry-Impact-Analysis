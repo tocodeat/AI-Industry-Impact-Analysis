{
 "cells": [
  {
   "cell_type": "code",
   "execution_count": 1,
   "id": "cb6234cf-4793-4c08-b866-09f27c37277c",
   "metadata": {},
   "outputs": [
    {
     "name": "stdout",
     "output_type": "stream",
     "text": [
      "3.10.10 | packaged by conda-forge | (main, Mar 24 2023, 20:08:06) [GCC 11.3.0]\n"
     ]
    }
   ],
   "source": [
    "import sys\n",
    "print(sys.version)"
   ]
  },
  {
   "cell_type": "code",
   "execution_count": 2,
   "id": "dfb565fc-cbf4-4583-9c30-5737c1373fa1",
   "metadata": {},
   "outputs": [],
   "source": [
    "cache_dir = '/Users/kothasravani/Desktop/NLP'"
   ]
  },
  {
   "cell_type": "code",
   "execution_count": null,
   "id": "dafba00d-157e-46aa-bb6e-cdb281d75f2b",
   "metadata": {},
   "outputs": [],
   "source": [
    "# !pip install pandarallel\n",
    "# !pip install nltk\n",
    "\n",
    "# from IPython.display import clear_output\n",
    "# clear_output(wait=True)"
   ]
  },
  {
   "cell_type": "code",
   "execution_count": null,
   "id": "907eead9-9e2d-44a4-a98b-6f1000afb48c",
   "metadata": {},
   "outputs": [],
   "source": [
    "# !pip install spacy --user\n",
    "\n",
    "# !python3 -m spacy download en_core_web_sm\n",
    "# clear_output(wait=True)"
   ]
  },
  {
   "cell_type": "code",
   "execution_count": 5,
   "id": "c9116d82-bffe-4ca9-81ad-222e5bdf3181",
   "metadata": {},
   "outputs": [],
   "source": [
    "import pandas as pd\n",
    "import numpy as np\n",
    "import os\n",
    "import re\n",
    "import seaborn as sns\n",
    "import matplotlib.pyplot as plt\n",
    "import pandarallel\n",
    "\n",
    "import requests\n",
    "import pprint\n",
    "from joblib import dump, load\n",
    "\n",
    "import re\n",
    "from re import sub, findall, match\n",
    "\n",
    "import nltk as nltk\n",
    "from nltk.corpus import stopwords\n",
    "from nltk.stem.wordnet import WordNetLemmatizer"
   ]
  },
  {
   "cell_type": "code",
   "execution_count": 7,
   "id": "06704988-90e3-4a82-b3d1-33c392381148",
   "metadata": {},
   "outputs": [
    {
     "data": {
      "text/plain": [
       "(200332, 5)"
      ]
     },
     "execution_count": 7,
     "metadata": {},
     "output_type": "execute_result"
    }
   ],
   "source": [
    "df_news_final_project = pd.read_parquet('https://storage.googleapis.com/msca-bdp-data-open/news_final_project/news_final_project.parquet', engine='pyarrow')\n",
    "df_news_final_project.shape"
   ]
  },
  {
   "cell_type": "code",
   "execution_count": 8,
   "id": "169b90d8-23d0-46bc-8ec1-14443c87a724",
   "metadata": {},
   "outputs": [
    {
     "data": {
      "text/html": [
       "<div>\n",
       "<style scoped>\n",
       "    .dataframe tbody tr th:only-of-type {\n",
       "        vertical-align: middle;\n",
       "    }\n",
       "\n",
       "    .dataframe tbody tr th {\n",
       "        vertical-align: top;\n",
       "    }\n",
       "\n",
       "    .dataframe thead th {\n",
       "        text-align: right;\n",
       "    }\n",
       "</style>\n",
       "<table border=\"1\" class=\"dataframe\">\n",
       "  <thead>\n",
       "    <tr style=\"text-align: right;\">\n",
       "      <th></th>\n",
       "      <th>url</th>\n",
       "      <th>date</th>\n",
       "      <th>language</th>\n",
       "      <th>title</th>\n",
       "      <th>text</th>\n",
       "    </tr>\n",
       "  </thead>\n",
       "  <tbody>\n",
       "    <tr>\n",
       "      <th>0</th>\n",
       "      <td>http://en.people.cn/n3/2021/0318/c90000-9830122.html</td>\n",
       "      <td>2021-03-18</td>\n",
       "      <td>en</td>\n",
       "      <td>Artificial intelligence improves parking efficiency in Chinese cities - People's Daily Online</td>\n",
       "      <td>\\n\\nArtificial intelligence improves parking efficiency in Chinese cities - People's Daily Online\\n\\nHome\\nChina Politics\\nForeign Affairs\\nOpinions\\nVideo: We Are China\\nBusiness\\nMilitary\\nWorld\\nSociety\\nCulture\\nTravel\\nScience\\nSports\\nPhoto\\n\\nLanguages\\n\\nChinese\\nJapanese\\nFrench\\nSpanish\\nRussian\\nArabic\\nKorean\\nGerman\\nPortuguese\\nThursday, March 18, 2021\\nHome&gt;&gt;\\n\\t\\t\\nArtificial intelligence improves parking efficiency in Chinese cities\\nBy Liu Shiyao (People's Daily) 09:16, March 18, 2021\\nPhoto taken on July 1, 2019, shows a sign for electronic toll collection (ETC) newly set up at a roadside parking space on Yangzhuang road, Shijingshan district, Beijing. Some urban areas of the city started to use ETC system for roadside parking spaces since July 1, 2019. (People’s Daily Online/Li Wenming)\\n\\n\\tThanks to the application of an artificial intelligence (AI)-empowered roadside electronic toll collection (ETC) system, China’s capital city Beijing has seen significant improvement in the efficiency of parking fee collection, turnover of roadside parking spots, order in roadside parking, as well as traffic congestion.\\n\\n\\tAs the city further deepens its roadside parking reform, the ETC system has almost covered all the roadside parking spaces in the city, with the proportion of vehicles parked on roads using the system exceeding 90 percent.\\n\\n\\tWith the AI-empowered system, drivers can park their vehicles at the parking spots on the roadside, and then pay the parking charge via their mobile phones after they drive away.\\n\\n\\t“This road used to be full of cars, and even the normal lanes were occupied. You could hardly move a bit during the morning and evening commute time,” recalled a citizen surnamed Wang, who lives in Chaoyang district of Beijing.\\n\\n\\t“Since the summer of 2019, roadside ETC devices have been installed here. With all the cars being parked in designated parking spots on the roadside, the road now seems brighter and wider,” Wang said.\\n\\n\\tThe smart roadside ETC system “AIpark Sky Eye” adopted by Beijing is developed, operated, and maintained by AIpark, a Beijing-based leading smart parking solution provider.\\n\\n\\tThe company’s intelligent system has brought into full play the advantages of AI technologies and effectively addressed the shortage of parking spaces and the problem of irregular parking in cities. The system has therefore been listed among the country’s innovation projects that integrate AI deeply into the real economy in 2018 by China’s Ministry of Industry and Information Technology (MIIT).\\n\\n\\tTraditional parking management equipment and monitoring devices have failed to meet the actual needs of cities due to limited application scenarios and technical capacity. There are many deficiencies in traditional parking systems. For example, magnetic devices cannot identify detailed information about vehicles; each video monitoring pile can only cover one parking spot; and manual collection of parking fees costs too much.\\n\\n\\tSuch problems don’t exist in smart machines. The “AIpark Sky Eye” system boasts strong stability and high recognition rate. Besides, it can resist the interference of extreme weather conditions like rain, snow, and fog, and form complete graphic evidence based on wheel path of vehicles.\\n\\n\\tEach set of cameras of the “AIpark Sky Eye” system can monitor multiple parking spots at the same time for 24 hours a day. The data collected by front-end cameras are processed using multi-dimensional deep learning algorithm before they are uploaded on to an AI computing cloud platform for data enrichment. The platform then distributes identification results to transport authorities.\\n\\n\\tThe most distinctive innovation in the technological package of the system is precision brought about by high-mounted parking system cameras, according to Xiang Yanping, senior vice president of AIpark, noting that the cameras can recognize more complex static and dynamic reality scenes.\\n\\n\\t“For example, the equipment can accurately identify irregular parking behaviors and state such as double parking and frequent maneuvers, precisely recognize detailed information including plate number and vehicle color, and make good judgment on the behaviors of drivers and pedestrians,” Xiang said.\\n\\n\\tOnce the high-mounted parking system cameras are installed, they can help with many aspects of integrated urban governance, which represents another advantage of the “AIpark Sky Eye” system.\\n\\n\\tBesides managing parking fee collection, high-mounted camera system can also provide data for traffic improvements. The snapshots obtained from the camera system can help solve problems including illegal and inappropriate parking and vehicle theft.\\n\\n\\tSo far, the smart ETC system of AIpark has been introduced into more than 20 cities in China, signaling increasingly important roles of AI in improving parking efficiency and order as well as new development opportunities for smart parking industry.\\n【1】【2】【3】\\nPhotos\\nNaval fleet steams in East China Sea\\nNewborn golden snub-nosed monkey makes debut\\nIn pics: birds across China\\nGrain painting studio helps villagers to increase income\\nRelated Stories\\nExhibition highlighting art-science integration opens in BeijingChina’s AI industry poised to enter boom timesAlibaba outlines 10 technology trends for 2019China’s leading AI enterprise iFlytek to develop health information technologyCheetah Mobile wades into artificial intelligenceChina overtakes the US in investment in AI5 million artificial intelligence talents urgently needed in ChinaGraduate students give 'voice' to sign languageArtificial Intelligence in real livesMicrosoft embraces artificial intelligence\\nAbout People's Daily Online |  Join Us | Contact Us\\nCopyright © 2021 People's Daily Online. All Rights Reserved.\\n\\t\\n</td>\n",
       "    </tr>\n",
       "    <tr>\n",
       "      <th>1</th>\n",
       "      <td>http://newsparliament.com/2020/02/27/children-with-autism-saw-their-learning-and-social-skills-boosted-after-playing-with-this-ai-robot/</td>\n",
       "      <td>2020-02-27</td>\n",
       "      <td>en</td>\n",
       "      <td>Children With Autism Saw Their Learning and Social Skills Boosted After Playing With This AI Robot – News Parliament</td>\n",
       "      <td>\\nChildren With Autism Saw Their Learning and Social Skills Boosted After Playing With This AI Robot – News Parliament\\n \\n\\nSkip to content\\n\\t\\t\\tThursday, February 27, 2020\\t\\t\\n\\nLatest:\\n\\n\\nMansplaining in conferences: How can we get him to forestall?\\n\\n\\nDrax power station to cease burning coal in March 2021\\n\\n\\nCoronavirus Could Explode in the U.S. Overnight Like it Did in Italy\\n\\n\\nCoronavirus: Dettol sales surge as markets fall again\\n\\n\\nLevi Strauss marks the next phase in corporate paid leave policies\\n\\nNews Parliament\\n\\nGet the Real Story\\n\\n \\nNews\\nTechnology\\nServices\\nHealthcare\\nWorld\\nBusiness\\nEntertainment\\n \\n\\nWorld \\n\\n\\n   \\t\\t\\tChildren With Autism Saw Their Learning and Social Skills Boosted After Playing With This AI Robot   \\t\\t\\n\\n\\n February 27, 2020February 27, 2020\\nadmin\\t\\t\\t\\t\\t\\n\\n\\n 0 Comments\\n\\n\\n Author Recent Posts   admin  Latest posts by admin (see all)  Mansplaining in conferences: How can we get him to forestall? - February 27, 2020   Coronavirus Could Explode in the U.S. Overnight Like it Did in Italy - February 27, 2020   Levi Strauss marks the next phase in corporate paid leave policies - February 27, 2020   Scientists who designed an artificially clever robotic that helped youngsters with autism spice up their studying and social talents hope such era may just in the future help others with the developmental dysfunction.\\nThe learn about noticed seven youngsters with gentle to average autism take domestic what’s referred to as a socially assistive robotic, named Kiwi, for a month. According to a commentary by way of the University of Southern California the place the crew is primarily based, the members from the Los Angeles house had been elderly between 3 and seven years previous, and performed space-themed video games with the robotic virtually day by day.\\nAs Kiwi was once fitted with machine-learning era, it was once in a position to offer distinctive comments and directions to the kids in accordance with their talents. For example, if the kid were given a query incorrect Kiwi would give activates to assist them resolve it, and tweak the trouble ranges to problem the kid correctly.\\nThe authors of the paper revealed within the magazine Science Robotics discovered all the youngsters noticed their reasoning talents support. Some 92 % had higher social talents after enjoying with Kiwi for a month, in keeping with the commentary.\\nCameras hooked as much as Kiwi enabled the crew to additionally observe how engaged the children had been with the robotic, in accordance with the place their eyes had been taking a look, the placement in their heads, their speech and how smartly they carried out on a role. The crew discovered engagement ranged from 48 to 84 % on reasonable a few of the members, and Kiwi was once in a position to stumble on a disengaged kid with 90 % accuracy. That was once in spite of possible distractions akin to domestic home equipment, in addition to buddies and circle of relatives. The crew discovered members had been maximum engaged in an instant after the robotic had spoken, however this went down if the space lasted longer than a minute.\\nLead writer Shomik Jain, advised Newsweek the kids changed into much less engaged because the month went on. \\n“Examples of child behavior during these disengaged periods included playing with toys, interacting with siblings, and even abruptly leaving the intervention setting.”\\n“This served as a motivation for our work, which created models that could be used for real-time recognition and response to disengagement in order to re-engage the child to continue with the educational and/or therapeutic activity,” he stated.\\nFrom left to proper, lead writer Shomik Jain with co-authors Kartik Mahajan and Zhonghao Shi, all scholars in Professor Maja Matarić’s interplay lab, with Kiwi the socially assistive robotic.\\nHaotian mai\\nAround one in 59 youngsters within the U.S. have autism, in keeping with the U.S. Centers for Disease Control and Prevention. People with the situation, often referred to as autism spectrum dysfunction (ASD), can to find it difficult to keep in touch and engage in the similar manner as neurotypical other folks. While therapists may give individualized products and services that assist to show such youngsters social talents, now not everybody can have the funds for this, the crew stated. As such, they sought after to discover the potential for plugging the space with robots.\\nCo-author Maja Matarić Maja J Matarić, outstanding professor of pc science, neuroscience, and pediatrics on the University of Southern California advised Newsweek:\\n“We and other researchers have been actively exploring SAR [socially assistive robotics] for children with ASD, because SAR has great potential in supporting the learning of children with ASD. Since we were one of the very few labs that has worked in SAR from its inception, we used our experience over the past 15 years to develop the robot that would meet the needs and interests of children with ASD while being safe and non-threatening.”\\nJain stated: “Currently, robots are restricted of their skill to autonomously acknowledge and reply to human conduct, particularly in ordinary customers and real-world settings akin to houses and colleges. Engaging customers is a key HRI [human-robot interaction] capacity in the past unexplored within the context of long-term, in-home SAR interventions for youngsters with ASD.\\n“Therefore this learn about is the primary to use mechanical device studying modeling to long-term in-home knowledge with youngsters with ASD. “\\nAsked why the kids’s engagement and studying stepped forward after interacting with the robotic, Matarić stated: “The objective of a socially assistive robotic, usually, is to serve within the function of a motivating and supportive spouse. In the particular context of this learn about, the robotic served to inspire the kids to do the maths workouts, and to make stronger them as they had been succeeding or failing throughout the ones workouts.”\\nHowever, youngsters with autism do not want robots to harvest the advantages noticed within the learn about, Matarić stated.\\n“The maximum healing results come from being concerned human interactions,” Matarić explained. “Parents, siblings, caregivers and buddies can successfully inspire and make stronger studying and remedy of kids with ASD by way of paying cautious consideration to what youngsters to find rewarding and encouraging, and specializing in the ones interactions, shaping towards the kid’s particular wishes.”\\nShare This To World:TweetWhatsApp \\n\\n← Vogue fashion, 21, whose mysterious half-naked 4am balcony fall shattered bones all over her body finally takes first step\\nExclusive: Levi’s introduces paid family leave for workers →\\n\\n\\nYou May Also Like\\n \\nLast Minute New Orleans Hotel and Flight Package Offers\\n\\n\\n February 21, 2020February 21, 2020\\nadmin\\n0\\n\\n \\nAccused Marie Yovanovitch ‘Stalker’ Robert Hyde Now Supplying Documents to Congress\\n\\n\\n February 12, 2020February 12, 2020\\nadmin\\n0\\n\\n \\nWho Won the Tenth Democratic Debate in South Carolina? Analysis of the Winners, Losers and Highlights\\n\\n\\n February 26, 2020February 26, 2020\\nadmin\\n0\\n\\nLeave a Reply Cancel replyYour email address will not be published. Required fields are marked *Comment Name * \\nEmail * \\nWebsite \\n Save my name, email, and website in this browser for the next time I comment.\\n \\n\\n \\n Trending News \\n\\nMansplaining in conferences: How can we get him to forestall?\\nFebruary 27, 2020\\n\\n\\nDrax power station to cease burning coal in March 2021\\nFebruary 27, 2020\\n\\n\\nCoronavirus Could Explode in the U.S. Overnight Like it Did in Italy\\nFebruary 27, 2020\\n\\n\\nCoronavirus: Dettol sales surge as markets fall again\\nFebruary 27, 2020\\n\\n\\nLevi Strauss marks the next phase in corporate paid leave policies\\nFebruary 27, 2020\\n\\n\\n Technology  \\n \\nHealthcare News Technology  \\nCell Counting Market Research Report: Latest Industry Status and Future Growth Outlook 2020 to 2027\\n\\n\\n February 12, 2020 Alex Jones\\n0\\n\\n\\nAuthor Recent Posts admin Latest posts by admin (see all) Mansplaining in conferences: How can we get him to forestall?\\nShare This To World:TweetWhatsApp \\n\\n\\n  \\n \\nBusiness News Services Technology  \\nNew Comprehensive Report on Ayurvedic Preparations Market is Thriving Worldwide with Prominent Players Dabur, Emami Group, Himalaya Drug, Maharishi Ayurveda, Baidyanalh\\n\\n\\n February 5, 2020 Alex Jones\\n0\\n\\n \\nBusiness News Services Technology  \\nNew Study Examines Global Water Treatment Services for the Downstream Oil and Gas Market Outlook 2019-2026: Top Key Players- SUEZ, The Dow Chemical, Veolia, Aquatech International\\n\\n\\n February 5, 2020 Alex Jones\\n0\\n\\n \\nBusiness Services Technology  \\nMassive Growth of Arborist Software Market By Top Key Players Forest Metrix, Plan-It Geo, Arb Pro Software, CAD International (ArborCAD)\\n\\n\\n February 5, 2020 Alex Jones\\n0\\n \\n Recent News  \\n \\nBusiness  \\nMansplaining in conferences: How can we get him to forestall?\\n\\n\\n February 27, 2020February 27, 2020 admin\\n0\\n\\n\\nAuthor Recent Posts admin Latest posts by admin (see all) Mansplaining in conferences: How can we get him to forestall?\\nShare This To World:TweetWhatsApp \\n\\n\\n  \\n\\nNews  \\nDrax power station to cease burning coal in March 2021\\n\\n\\n February 27, 2020February 27, 2020 Allen Becker\\n0\\n\\n \\nWorld  \\nCoronavirus Could Explode in the U.S. Overnight Like it Did in Italy\\n\\n\\n February 27, 2020February 27, 2020 admin\\n0\\nNews  \\nCoronavirus: Dettol sales surge as markets fall again\\n\\n\\n February 27, 2020February 27, 2020 Allen Becker\\n0\\n\\n \\nBusiness  \\nLevi Strauss marks the next phase in corporate paid leave policies\\n\\n\\n February 27, 2020February 27, 2020 admin\\n0\\n \\n \\nAbout Us News Parliament is an online news company focused on covering the most important business and finance news in US and World Market. We have assembled a team of passionate, seasoned investment professionals to pick apart the market’s biggest headlines on a daily basis.\\nSubscription Email: pr@digitalnewsdesk.com\\n \\n\\n \\nWho We Are \\nAbout Us\\nDisclaimer\\nPrivacy Policy\\nContact Us\\n\\n \\n\\nNews Sections \\nBusiness\\n\\nEntertainment\\n\\nHealthcare\\n\\nNews\\n\\nServices\\n\\nTechnology\\n\\nUncategorized\\n\\nWorld\\n\\n\\n \\n \\n© 2019 - News Parliament.  All Rights Reserved. \\n \\n</td>\n",
       "    </tr>\n",
       "    <tr>\n",
       "      <th>2</th>\n",
       "      <td>http://www.dataweek.co.za/12835r</td>\n",
       "      <td>2021-03-26</td>\n",
       "      <td>en</td>\n",
       "      <td>Forget ML, AI and Industry 4.0 – obsolescence should be your focus - 26 February 2021 - Test &amp; Rework Solutions - Dataweek</td>\n",
       "      <td>\\n\\nForget ML, AI and Industry 4.0 – obsolescence should be your focus - 26 February 2021 - Test &amp; Rework Solutions - Dataweek\\nHome\\nAbout us\\nBack issues / E-book / PDF\\nEMP Handbook\\nSubscribe\\nAdvertise\\n\\nCategories\\n\\n▸ Editor's Choice\\n▸ Multimedia, Videos\\n▸ Analogue, Mixed Signal, LSI\\n▸ Circuit &amp; System Protection\\n▸ Computer/Embedded Technology\\n▸ Design Automation\\n▸ DSP, Micros &amp; Memory\\n▸ Electronics Technology\\n▸ Enclosures, Racks, Cabinets &amp; Panel Products\\n▸ Events\\n▸ Interconnection\\n▸ Manufacturing / Production Technology, Hardware &amp; Services\\n▸ News\\n▸ Opto-Electronics\\n▸ Passive Components\\n▸ Power Electronics / Power Management\\n▸ Programmable Logic\\n▸ Smart Home Automation\\n▸ Switches, Relays &amp; Keypads\\n▸ Telecoms, Datacoms, Wireless, IoT\\n▸ Test &amp; Measurement\\n \\n\\nCategories\\n\\nEditor's Choice\\n\\n\\nMultimedia, Videos\\n\\n\\nAnalogue, Mixed Signal, LSI\\n\\n\\nCircuit &amp; System Protection\\n\\n\\nComputer/Embedded Technology\\n\\n\\nDesign Automation\\n\\n\\nDSP, Micros &amp; Memory\\n\\n\\nElectronics Technology\\n\\n\\nEnclosures, Racks, Cabinets &amp; Panel Products\\n\\n\\nEvents\\n\\n\\nInterconnection\\n\\n\\nManufacturing / Production Technology, Hardware &amp; Services\\n\\n\\nNews\\n\\n\\nOpto-Electronics\\n\\n\\nPassive Components\\n\\n\\nPower Electronics / Power Management\\n\\n\\nProgrammable Logic\\n\\n\\nSmart Home Automation  \\n\\n\\nSwitches, Relays &amp; Keypads\\n\\n\\nTelecoms, Datacoms, Wireless, IoT\\n\\n\\nTest &amp; Measurement\\nManufacturing / Production Technology, Hardware &amp; Services\\n\\nProduction/manufacturing equipment suppliers &amp; service providers  \\n\\n printer friendly version\\nForget ML, AI and Industry 4.0 – obsolescence should be your focus\\n26 February 2021\\nManufacturing / Production Technology, Hardware &amp; Services\\nBy Willian Santos, international sales manager at ABI Electronics.\\n\\nThe world entered a new era of accelerated transformation in the last eighteen months that will continue to evolve and press forward for years to come. Most businesses are playing catch-up trying to make sense of a new timeline where the ten years that had been set aside for careful planning and implementation of what was coming up next no longer exists. The next is happening now and, regardless of your industry or seniority, the status quo has shifted and you better face it. Back in 2019, I was invited to attend a pompous meeting in London at the Brazilian Embassy along with selected leading names from the oil and energy industry, to get an update on what was going to happen in the following decade. I could soon spot all the buzzwords coming up on PowerPoint slides from the different companies presenting: decommissioning, decarbonisation, zero emissions, transition to green energy. Throughout the morning and most of the afternoon, we heard that most of these changes would kick in between 2030-35. And I recall a Shell executive pointing out that the business had explicitly concluded that the current income streams were needed to provide the capital required for the transition to take place in due course.Whomever you talk to in the energy industry in 2021 would tell you to forget about that timeline. Change has come and the transition is happening much faster than anticipated, with big businesses scrambling to find the capital to fund all that is required. I could go on all day talking about how the pandemic and the impact it had on market demand and consumer behaviour messed up the timeline of transport, automotive, defence, manufacturing and so on. For instance, carrier planes that were due to be retired in 2017 are now required to remain in service at least until 2029. Projects in wind power involving upgrades of wind farms have been scrapped and new installations have drawn huge competition from up and coming brands with operators tending to favour smaller turbines – for being efficient and cheaper to run – and choosing to buy from multiple suppliers instead of just one company. Machine learning (ML), AI and Industry 4.0 knock at the door. Still, the biggest change yet to be fully appreciated by business leaders is how electronics effectively became the brain of every industrial asset and all infrastructure equipment in operation in recent years, and therefore what is required to deal with breakdowns and obsolescence. For instance, I lost count of the many rail connections that I have working in operations and maintenance who struggle with their CME – chief mechanical engineer – who, like the role suggests, is usually a mechanically-biased individual who may have a less than ideal approach when it comes to the handling of electronic failures. And you guessed right: less ideal means neither green nor cheap solutions, as illustrated in this video: www.dataweek.co.za/*mar21-abi Many decision-makers only realise the problem at hand and regret not following the tag #RepairDontWaste on LinkedIn in times like this, resulting in comments like, \"We did not anticipate that the equipment would become obsolete so quickly!\" or, \"Spare circuit boards started to take weeks then months to arrive. Then we were told that they would no longer be supplied. We were quoted seven-figure prices to upgrade our assembly line.\"By deferring the responsibility to the original equipment supplier and other third parties, you are bound to be caught off guard soon or later. And the risk exposure from insisting on this strategy is about to get exponentially higher; there is a widespread component shortage increasing lead times, and technology providers are dropping support for many products in order to remain viable.Last month, a wind turbine multinational in the US had to ship a bunch of expensive controller cards used in inverters and speed governing systems to its workshop in Brazil for repair as new replacement cards are not due back in stock for another six months. Good job that the local team had an electronic diagnostic equipment BoardMaster from ABI in the shop, ready to help the technicians locate the fault and repair the cards, which happened in record time.Poor decision-making when it comes to setting maintenance and repair strategies are often linked to ‘fake news’ and myths such as:• A repaired electronic card (PCB/PCBA) will never be as good as a new one.• The manufacturer told us that special software was required to troubleshoot the card.• Troubleshooting down to the component level is impossible or would take too long.• Dedicated test and repair equipment is prohibitively expensive.The mentality here needs to change, and fast. The longer you take to embrace the new strategies for in-house fault analysis, maintenance, and obsolescence planning of your key electronic circuits and assets, the more expensive it will get to keep them going. Hundreds of leading organisations have found in recent years that the belief in these myths was hindering their results and compromising the operation – from GE Renewable to Collins Aerospace, where the latter reduced troubleshooting times on avionics circuit cards from 50 hours to 10 minutes. Then there is Lego in Mexico, where controller cards from 600+ plastic moulding machines worth tens of thousands of dollars each have been mapped and are now repaired in-house. In the US, an army engineer saved a mobile shelter unit worth 10 million dollars from being decommissioned by repairing its HVAC circuit board that was deemed ‘irreparable’ by the OEM. In the rail arena, companies like Alstom, CAF, Bombardier and operators like Irish Rail, SFMTA, TCDD and so many others have discovered the benefits of investing in the right tool and skill development programme to shield the business against parts shortages and accelerated obsolescence. Some of their stories, and the technology that is driving several top-shelf global sustainability projects, were the subject of a YouTube series called ABI Labs. The series gives an in-depth review of the key tests and techniques available in the British-made BoardMaster hardware and software platform from ABI Electronics to handle predictive as well as corrective maintenance of critical electronics without wasting time or money. The ABI BoardMaster 19-inch rack universal diagnostic system is a uniquely versatile, self-contained and easy-to-use test system. It offers the most comprehensive set of test instruments for fault-finding on almost any kind of PCB. As the product of choice for companies operating in rail transport, aerospace, military, automotive, telecoms and a range of other industrial sectors, the BoardMaster is ABI Electronics’ top of the range solution that saves customers time and money, and increases asset availability and reliability. With the full range of instruments and a variety of test methods guaranteeing the best possible fault coverage, the BoardMaster 19-inch rack provides the ultimate in diagnostic tools.The BoardMaster 19-inch rack comes complete with ABI's multi-licence and user-friendly SYSTEM 8 Ultimate Software preinstalled. Customers are guaranteed to receive free software updates for life and will not be charged for additional seats or maintenance fees. The powerful yet easy-to-use software includes user access management, ABI's exclusive TestFlow Manager, as well as a wealth of customisation options.\\n\\nCredit(s)\\nTest &amp; Rework Solutions\\nTel:\\n+27 11 704 6677\\n\\n\\nEmail: \\nsales@testandrework.co.za\\n\\n\\nwww:\\nwww.testandrework.co.za\\n\\n\\nArticles:\\nMore information and articles about Test &amp; Rework Solutions\\nShare this article:\\nFurther reading:\\nSuccessful solder processing of high-density connector arrays \\n26 February 2021, Spectrum Concepts\\n, Manufacturing / Production Technology, Hardware &amp; Services\\nProcessing a component onto a printed circuit board (PCB) used to be fairly straightforward. Through-hole products, or a single- or double-row surface mount component with a larger centreline, rarely ...\\nRead more...\\n\\nWater-based cleaners for electronic assemblies\\n26 February 2021, Vepac Electronics\\n, Manufacturing / Production Technology, Hardware &amp; Services\\nThe purpose of cleaning, specifically within the rapidly expanding electronics industry, is essentially to improve product lifetime by ensuring good surface resistance and by preventing current leakage ...\\nRead more...\\n\\nPathfindr device helps people maintain safe social distancing\\n26 February 2021, RS Components (SA)\\n, Manufacturing / Production Technology, Hardware &amp; Services\\nThe Safe Distancing Assistant from Pathfindr is a new addition to RS Components’ supplier portfolio specialising in asset intelligence using connectivity-enabled location tracking. \\r\\n\\r\\nDesigned for use ...\\nRead more...\\n\\nIndium features low-temp alloy at productronica China\\n26 February 2021, Techmet \\n, Manufacturing / Production Technology, Hardware &amp; Services\\nIndium featured its award-winning Durafuse LT – a novel, low-temperature alloy system designed to provide high reliability in low-temperature applications – during productronica China, which was held ...\\nRead more...\\n\\nAssistance system supports efficient conductor processing\\n26 February 2021, Phoenix Contact\\n, Manufacturing / Production Technology, Hardware &amp; Services\\nIn industrial control cabinet manufacturing, processes still feature multiple manual steps. Phoenix Contact offers a solution in the form of the ClipX WIRE assistance system from the ClipX product family, ...\\nRead more...\\n\\nBattery operated UV-C surface disinfector\\n26 February 2021, Electronic Industry Supplies\\n, Manufacturing / Production Technology, Hardware &amp; Services\\nTouted by its maker, Heraeus, as the only battery operated UV-C surface disinfector in the world, the Soluva Zone H promises chemical-free, dry, contactless, fast, and absolutely reliable destruction ...\\nRead more...\\n\\nPCB laser marking and FPC laser cutting machines\\n25 November 2020, Zetech\\n, Manufacturing / Production Technology, Hardware &amp; Services\\nPCB laser marking and FPC laser cutting machines from HGTech can be integrated with SMT inline operation. The laser marking machine is designed for barcode marking, 2D codes and characters, graphics and ...\\nRead more...\\n\\nHigh conductor pull-out values with square crimping shape\\n25 November 2020, Phoenix Contact\\n, Manufacturing / Production Technology, Hardware &amp; Services\\nThe Crimpfox Vario 4S crimping tool from Phoenix Contact ensures reliable processing of insulated, uninsulated, and TWIN ferrules.The integrated pressure lock guarantees a complete and process-reliable ...\\nRead more...\\n\\nDirectory of Suppliers 2021 \\nEMP 2021 Electronics Manufacturing &amp; Production Handbook\\n, Manufacturing / Production Technology, Hardware &amp; Services\\nContact details and core business offering of prominent and trusted companies involved in, and supplying to, the local electronics manufacturing industry.\\nRead more...\\n\\nThe same old new normal\\nEMP 2021 Electronics Manufacturing &amp; Production Handbook, Barracuda Holdings, Jemstech, Production Logix\\n, Manufacturing / Production Technology, Hardware &amp; Services\\nTo find out how local contract electronics manufacturers have coped with the financial and operational fallout from the pandemic, Dataweek conducted a Q&amp;A with three of them.\\nRead more...\\n\\n \\n\\n \\n \\n\\nTechnews Publishing (Pty) Ltd\\n1st Floor, Stabilitas House\\n265 Kent Ave, Randburg, 2194\\nSouth Africa\\nPublications by Technews\\n»  Dataweek Electronics &amp; Communications Technology\\n»  Electronics Buyers' Guide (EBG)\\n»  Hi-Tech Security Solutions\\n»  Hi-Tech Security Business Directory\\n»  Motion Control in Southern Africa\\n»  Motion Control Buyers' Guide (MCBG)\\n»  South African Instrumentation &amp; Control\\n»  South African Instrumentation &amp; Control Buyers' Guide (IBG)\\n© Technews Publishing (Pty) Ltd | All Rights Reserved\\n</td>\n",
       "    </tr>\n",
       "  </tbody>\n",
       "</table>\n",
       "</div>"
      ],
      "text/plain": [
       "                                                                                                                                        url   \n",
       "0                                                                                      http://en.people.cn/n3/2021/0318/c90000-9830122.html  \\\n",
       "1  http://newsparliament.com/2020/02/27/children-with-autism-saw-their-learning-and-social-skills-boosted-after-playing-with-this-ai-robot/   \n",
       "2                                                                                                          http://www.dataweek.co.za/12835r   \n",
       "\n",
       "         date language   \n",
       "0  2021-03-18       en  \\\n",
       "1  2020-02-27       en   \n",
       "2  2021-03-26       en   \n",
       "\n",
       "                                                                                                                        title   \n",
       "0                               Artificial intelligence improves parking efficiency in Chinese cities - People's Daily Online  \\\n",
       "1        Children With Autism Saw Their Learning and Social Skills Boosted After Playing With This AI Robot – News Parliament   \n",
       "2  Forget ML, AI and Industry 4.0 – obsolescence should be your focus - 26 February 2021 - Test & Rework Solutions - Dataweek   \n",
       "\n",
       "                                                                                                                                                                                                                                                                                                                                                                                                                                                                                                                                                                                                                                                                                                                                                                                                                                                                                                                                                                                                                                                                                                                                                                                                                                                                                                                                                                                                                                                                                                                                                                                                                                                                                                                                                                                                                                                                                                                                                                                                                                                                                                                                                                                                                                                                                                                                                                                                                                                                                                                                                                                                                                                                                                                                                                                                                                                                                                                                                                                                                                                                                                                                                                                                                                                                                                                                                                                                                                                                                                                                                                                                                                                                                                                                                                                                                                                                                                                                                                                                                                                                                                                                                                                                                                                                                                                                                                                                                                                                                                                                                                                                                                                                                                                                                                                                                                                                                                                                                                                                                                                                                                                                                                                                                                                                                                                                                                                                                                                                                                                                                                                                                                                                                                                                                                                                                                                                                                                                                                                                                                                                                                                                                                                                                                                                                                                                                                                                                                                                                                                                                                                                                                                                                                                                                                                                                                                                                                                                                                                                                                                                                                                                                                                                                                                                                                                                                                                                                                                                                                                                                                                                                                                                                                                                                                                                                                                                                                                                                                                                                                                                                                                                                                                                                                                                                                                                                                                                                                                                                                                                                                                                                                                                                                                                                                                                                                                                                                                                                                                                                                                                                                                                                                                                                                                                                                                                                                                                                                                                                                                                                                                                                                                                                                                                                                                                                                                                                                                                                                                                                                                                                                                                                                                                                                                                                                                                                                                                                                                                                                                                                                                                                                                                                                                                                                                                                                                                                                                                                                                                                                                                                                                                                                                                                                                                                                                                                                                                                                                                                                                                                                                                                                                                                                                                                                                                                                                                                                                                                                                                                                                                                                                                                                                                                                                                                                                                                                                                                                                                                                                                                                                                                                                                                                                                                                                                                                                                                                                                                                                                                                                                                                                                                                                                                                                                                                                                                                                                                                                                                                                                                                                                                                                                                                                                                                                                                                                                                                                                                                                                                                                                                                                                                                                                                                                                                                  text  \n",
       "0                                                                                                                                                                                                                                                                                                                                                                                                                                                                                                                                                                                                                                                                                                                                                                                                                                                                                                                                                                                                                                                                                                                                                                                                                                                                                                                                                                                                                                                                                                                                                                                                                                                                                                                                                                                                                                                                                                                                                                                                                                                                                                                                                                                                                                                                                                                                                                                                                                                                                                                                                                                                                                                                                                                                                                                                                                                                                                                                                                                                                                                                                                                                                                                                                                                                                                                                                                                                                                                                                                                                                                                                                                                                                                                                                                                                                                                                                                                                                                                                                                                                                                                                                                                                                                                                                                                                                                                                                                                                                                                                                                                                                                                                                                                                                                                                                                                                                                                                                                                                                                                                                                                                                                                                                                                                                                                                                                                                                                                                                                                                                                                                                                                                                                                                                                                                                                                                                                                                                                                                                                                                                                                                                                                                                                                                                                                                                                                                                                                                                                                                                                                                                                                                                                                                                                                                                                                                                                                                                                                                                                                                                                                                                                                                                                                                                                                                                                                                                                                                                                                                                                                                                                                                                                                                                                                                                                                                                                                                                                                                                                                                                                                                                                                                              \\n\\nArtificial intelligence improves parking efficiency in Chinese cities - People's Daily Online\\n\\nHome\\nChina Politics\\nForeign Affairs\\nOpinions\\nVideo: We Are China\\nBusiness\\nMilitary\\nWorld\\nSociety\\nCulture\\nTravel\\nScience\\nSports\\nPhoto\\n\\nLanguages\\n\\nChinese\\nJapanese\\nFrench\\nSpanish\\nRussian\\nArabic\\nKorean\\nGerman\\nPortuguese\\nThursday, March 18, 2021\\nHome>>\\n\\t\\t\\nArtificial intelligence improves parking efficiency in Chinese cities\\nBy Liu Shiyao (People's Daily) 09:16, March 18, 2021\\nPhoto taken on July 1, 2019, shows a sign for electronic toll collection (ETC) newly set up at a roadside parking space on Yangzhuang road, Shijingshan district, Beijing. Some urban areas of the city started to use ETC system for roadside parking spaces since July 1, 2019. (People’s Daily Online/Li Wenming)\\n\\n\\tThanks to the application of an artificial intelligence (AI)-empowered roadside electronic toll collection (ETC) system, China’s capital city Beijing has seen significant improvement in the efficiency of parking fee collection, turnover of roadside parking spots, order in roadside parking, as well as traffic congestion.\\n\\n\\tAs the city further deepens its roadside parking reform, the ETC system has almost covered all the roadside parking spaces in the city, with the proportion of vehicles parked on roads using the system exceeding 90 percent.\\n\\n\\tWith the AI-empowered system, drivers can park their vehicles at the parking spots on the roadside, and then pay the parking charge via their mobile phones after they drive away.\\n\\n\\t“This road used to be full of cars, and even the normal lanes were occupied. You could hardly move a bit during the morning and evening commute time,” recalled a citizen surnamed Wang, who lives in Chaoyang district of Beijing.\\n\\n\\t“Since the summer of 2019, roadside ETC devices have been installed here. With all the cars being parked in designated parking spots on the roadside, the road now seems brighter and wider,” Wang said.\\n\\n\\tThe smart roadside ETC system “AIpark Sky Eye” adopted by Beijing is developed, operated, and maintained by AIpark, a Beijing-based leading smart parking solution provider.\\n\\n\\tThe company’s intelligent system has brought into full play the advantages of AI technologies and effectively addressed the shortage of parking spaces and the problem of irregular parking in cities. The system has therefore been listed among the country’s innovation projects that integrate AI deeply into the real economy in 2018 by China’s Ministry of Industry and Information Technology (MIIT).\\n\\n\\tTraditional parking management equipment and monitoring devices have failed to meet the actual needs of cities due to limited application scenarios and technical capacity. There are many deficiencies in traditional parking systems. For example, magnetic devices cannot identify detailed information about vehicles; each video monitoring pile can only cover one parking spot; and manual collection of parking fees costs too much.\\n\\n\\tSuch problems don’t exist in smart machines. The “AIpark Sky Eye” system boasts strong stability and high recognition rate. Besides, it can resist the interference of extreme weather conditions like rain, snow, and fog, and form complete graphic evidence based on wheel path of vehicles.\\n\\n\\tEach set of cameras of the “AIpark Sky Eye” system can monitor multiple parking spots at the same time for 24 hours a day. The data collected by front-end cameras are processed using multi-dimensional deep learning algorithm before they are uploaded on to an AI computing cloud platform for data enrichment. The platform then distributes identification results to transport authorities.\\n\\n\\tThe most distinctive innovation in the technological package of the system is precision brought about by high-mounted parking system cameras, according to Xiang Yanping, senior vice president of AIpark, noting that the cameras can recognize more complex static and dynamic reality scenes.\\n\\n\\t“For example, the equipment can accurately identify irregular parking behaviors and state such as double parking and frequent maneuvers, precisely recognize detailed information including plate number and vehicle color, and make good judgment on the behaviors of drivers and pedestrians,” Xiang said.\\n\\n\\tOnce the high-mounted parking system cameras are installed, they can help with many aspects of integrated urban governance, which represents another advantage of the “AIpark Sky Eye” system.\\n\\n\\tBesides managing parking fee collection, high-mounted camera system can also provide data for traffic improvements. The snapshots obtained from the camera system can help solve problems including illegal and inappropriate parking and vehicle theft.\\n\\n\\tSo far, the smart ETC system of AIpark has been introduced into more than 20 cities in China, signaling increasingly important roles of AI in improving parking efficiency and order as well as new development opportunities for smart parking industry.\\n【1】【2】【3】\\nPhotos\\nNaval fleet steams in East China Sea\\nNewborn golden snub-nosed monkey makes debut\\nIn pics: birds across China\\nGrain painting studio helps villagers to increase income\\nRelated Stories\\nExhibition highlighting art-science integration opens in BeijingChina’s AI industry poised to enter boom timesAlibaba outlines 10 technology trends for 2019China’s leading AI enterprise iFlytek to develop health information technologyCheetah Mobile wades into artificial intelligenceChina overtakes the US in investment in AI5 million artificial intelligence talents urgently needed in ChinaGraduate students give 'voice' to sign languageArtificial Intelligence in real livesMicrosoft embraces artificial intelligence\\nAbout People's Daily Online |  Join Us | Contact Us\\nCopyright © 2021 People's Daily Online. All Rights Reserved.\\n\\t\\n  \n",
       "1                                                                                                                                                                                                                                                                                                                                                                                                                                                                                                                                                                                                                                                                                                                                                                                                                                                                                                                                                                                                                                                                                                                                                                                                                                                                                                                                                                                                                                                                                                                                                                                                                                                                                                                                                                                                                                                                                                                                                                                                                                                                                                                                                                                                                                                                                                                                                                                                                                                                                                                                                                                                                                                                                                                                                                                                                                                                                                                                                                                                                                                                                                                                                                                                                                                                                                                                                                                                                                                       \\nChildren With Autism Saw Their Learning and Social Skills Boosted After Playing With This AI Robot – News Parliament\\n \\n\\nSkip to content\\n\\t\\t\\tThursday, February 27, 2020\\t\\t\\n\\nLatest:\\n\\n\\nMansplaining in conferences: How can we get him to forestall?\\n\\n\\nDrax power station to cease burning coal in March 2021\\n\\n\\nCoronavirus Could Explode in the U.S. Overnight Like it Did in Italy\\n\\n\\nCoronavirus: Dettol sales surge as markets fall again\\n\\n\\nLevi Strauss marks the next phase in corporate paid leave policies\\n\\nNews Parliament\\n\\nGet the Real Story\\n\\n \\nNews\\nTechnology\\nServices\\nHealthcare\\nWorld\\nBusiness\\nEntertainment\\n \\n\\nWorld \\n\\n\\n   \\t\\t\\tChildren With Autism Saw Their Learning and Social Skills Boosted After Playing With This AI Robot   \\t\\t\\n\\n\\n February 27, 2020February 27, 2020\\nadmin\\t\\t\\t\\t\\t\\n\\n\\n 0 Comments\\n\\n\\n Author Recent Posts   admin  Latest posts by admin (see all)  Mansplaining in conferences: How can we get him to forestall? - February 27, 2020   Coronavirus Could Explode in the U.S. Overnight Like it Did in Italy - February 27, 2020   Levi Strauss marks the next phase in corporate paid leave policies - February 27, 2020   Scientists who designed an artificially clever robotic that helped youngsters with autism spice up their studying and social talents hope such era may just in the future help others with the developmental dysfunction.\\nThe learn about noticed seven youngsters with gentle to average autism take domestic what’s referred to as a socially assistive robotic, named Kiwi, for a month. According to a commentary by way of the University of Southern California the place the crew is primarily based, the members from the Los Angeles house had been elderly between 3 and seven years previous, and performed space-themed video games with the robotic virtually day by day.\\nAs Kiwi was once fitted with machine-learning era, it was once in a position to offer distinctive comments and directions to the kids in accordance with their talents. For example, if the kid were given a query incorrect Kiwi would give activates to assist them resolve it, and tweak the trouble ranges to problem the kid correctly.\\nThe authors of the paper revealed within the magazine Science Robotics discovered all the youngsters noticed their reasoning talents support. Some 92 % had higher social talents after enjoying with Kiwi for a month, in keeping with the commentary.\\nCameras hooked as much as Kiwi enabled the crew to additionally observe how engaged the children had been with the robotic, in accordance with the place their eyes had been taking a look, the placement in their heads, their speech and how smartly they carried out on a role. The crew discovered engagement ranged from 48 to 84 % on reasonable a few of the members, and Kiwi was once in a position to stumble on a disengaged kid with 90 % accuracy. That was once in spite of possible distractions akin to domestic home equipment, in addition to buddies and circle of relatives. The crew discovered members had been maximum engaged in an instant after the robotic had spoken, however this went down if the space lasted longer than a minute.\\nLead writer Shomik Jain, advised Newsweek the kids changed into much less engaged because the month went on. \\n“Examples of child behavior during these disengaged periods included playing with toys, interacting with siblings, and even abruptly leaving the intervention setting.”\\n“This served as a motivation for our work, which created models that could be used for real-time recognition and response to disengagement in order to re-engage the child to continue with the educational and/or therapeutic activity,” he stated.\\nFrom left to proper, lead writer Shomik Jain with co-authors Kartik Mahajan and Zhonghao Shi, all scholars in Professor Maja Matarić’s interplay lab, with Kiwi the socially assistive robotic.\\nHaotian mai\\nAround one in 59 youngsters within the U.S. have autism, in keeping with the U.S. Centers for Disease Control and Prevention. People with the situation, often referred to as autism spectrum dysfunction (ASD), can to find it difficult to keep in touch and engage in the similar manner as neurotypical other folks. While therapists may give individualized products and services that assist to show such youngsters social talents, now not everybody can have the funds for this, the crew stated. As such, they sought after to discover the potential for plugging the space with robots.\\nCo-author Maja Matarić Maja J Matarić, outstanding professor of pc science, neuroscience, and pediatrics on the University of Southern California advised Newsweek:\\n“We and other researchers have been actively exploring SAR [socially assistive robotics] for children with ASD, because SAR has great potential in supporting the learning of children with ASD. Since we were one of the very few labs that has worked in SAR from its inception, we used our experience over the past 15 years to develop the robot that would meet the needs and interests of children with ASD while being safe and non-threatening.”\\nJain stated: “Currently, robots are restricted of their skill to autonomously acknowledge and reply to human conduct, particularly in ordinary customers and real-world settings akin to houses and colleges. Engaging customers is a key HRI [human-robot interaction] capacity in the past unexplored within the context of long-term, in-home SAR interventions for youngsters with ASD.\\n“Therefore this learn about is the primary to use mechanical device studying modeling to long-term in-home knowledge with youngsters with ASD. “\\nAsked why the kids’s engagement and studying stepped forward after interacting with the robotic, Matarić stated: “The objective of a socially assistive robotic, usually, is to serve within the function of a motivating and supportive spouse. In the particular context of this learn about, the robotic served to inspire the kids to do the maths workouts, and to make stronger them as they had been succeeding or failing throughout the ones workouts.”\\nHowever, youngsters with autism do not want robots to harvest the advantages noticed within the learn about, Matarić stated.\\n“The maximum healing results come from being concerned human interactions,” Matarić explained. “Parents, siblings, caregivers and buddies can successfully inspire and make stronger studying and remedy of kids with ASD by way of paying cautious consideration to what youngsters to find rewarding and encouraging, and specializing in the ones interactions, shaping towards the kid’s particular wishes.”\\nShare This To World:TweetWhatsApp \\n\\n← Vogue fashion, 21, whose mysterious half-naked 4am balcony fall shattered bones all over her body finally takes first step\\nExclusive: Levi’s introduces paid family leave for workers →\\n\\n\\nYou May Also Like\\n \\nLast Minute New Orleans Hotel and Flight Package Offers\\n\\n\\n February 21, 2020February 21, 2020\\nadmin\\n0\\n\\n \\nAccused Marie Yovanovitch ‘Stalker’ Robert Hyde Now Supplying Documents to Congress\\n\\n\\n February 12, 2020February 12, 2020\\nadmin\\n0\\n\\n \\nWho Won the Tenth Democratic Debate in South Carolina? Analysis of the Winners, Losers and Highlights\\n\\n\\n February 26, 2020February 26, 2020\\nadmin\\n0\\n\\nLeave a Reply Cancel replyYour email address will not be published. Required fields are marked *Comment Name * \\nEmail * \\nWebsite \\n Save my name, email, and website in this browser for the next time I comment.\\n \\n\\n \\n Trending News \\n\\nMansplaining in conferences: How can we get him to forestall?\\nFebruary 27, 2020\\n\\n\\nDrax power station to cease burning coal in March 2021\\nFebruary 27, 2020\\n\\n\\nCoronavirus Could Explode in the U.S. Overnight Like it Did in Italy\\nFebruary 27, 2020\\n\\n\\nCoronavirus: Dettol sales surge as markets fall again\\nFebruary 27, 2020\\n\\n\\nLevi Strauss marks the next phase in corporate paid leave policies\\nFebruary 27, 2020\\n\\n\\n Technology  \\n \\nHealthcare News Technology  \\nCell Counting Market Research Report: Latest Industry Status and Future Growth Outlook 2020 to 2027\\n\\n\\n February 12, 2020 Alex Jones\\n0\\n\\n\\nAuthor Recent Posts admin Latest posts by admin (see all) Mansplaining in conferences: How can we get him to forestall?\\nShare This To World:TweetWhatsApp \\n\\n\\n  \\n \\nBusiness News Services Technology  \\nNew Comprehensive Report on Ayurvedic Preparations Market is Thriving Worldwide with Prominent Players Dabur, Emami Group, Himalaya Drug, Maharishi Ayurveda, Baidyanalh\\n\\n\\n February 5, 2020 Alex Jones\\n0\\n\\n \\nBusiness News Services Technology  \\nNew Study Examines Global Water Treatment Services for the Downstream Oil and Gas Market Outlook 2019-2026: Top Key Players- SUEZ, The Dow Chemical, Veolia, Aquatech International\\n\\n\\n February 5, 2020 Alex Jones\\n0\\n\\n \\nBusiness Services Technology  \\nMassive Growth of Arborist Software Market By Top Key Players Forest Metrix, Plan-It Geo, Arb Pro Software, CAD International (ArborCAD)\\n\\n\\n February 5, 2020 Alex Jones\\n0\\n \\n Recent News  \\n \\nBusiness  \\nMansplaining in conferences: How can we get him to forestall?\\n\\n\\n February 27, 2020February 27, 2020 admin\\n0\\n\\n\\nAuthor Recent Posts admin Latest posts by admin (see all) Mansplaining in conferences: How can we get him to forestall?\\nShare This To World:TweetWhatsApp \\n\\n\\n  \\n\\nNews  \\nDrax power station to cease burning coal in March 2021\\n\\n\\n February 27, 2020February 27, 2020 Allen Becker\\n0\\n\\n \\nWorld  \\nCoronavirus Could Explode in the U.S. Overnight Like it Did in Italy\\n\\n\\n February 27, 2020February 27, 2020 admin\\n0\\nNews  \\nCoronavirus: Dettol sales surge as markets fall again\\n\\n\\n February 27, 2020February 27, 2020 Allen Becker\\n0\\n\\n \\nBusiness  \\nLevi Strauss marks the next phase in corporate paid leave policies\\n\\n\\n February 27, 2020February 27, 2020 admin\\n0\\n \\n \\nAbout Us News Parliament is an online news company focused on covering the most important business and finance news in US and World Market. We have assembled a team of passionate, seasoned investment professionals to pick apart the market’s biggest headlines on a daily basis.\\nSubscription Email: pr@digitalnewsdesk.com\\n \\n\\n \\nWho We Are \\nAbout Us\\nDisclaimer\\nPrivacy Policy\\nContact Us\\n\\n \\n\\nNews Sections \\nBusiness\\n\\nEntertainment\\n\\nHealthcare\\n\\nNews\\n\\nServices\\n\\nTechnology\\n\\nUncategorized\\n\\nWorld\\n\\n\\n \\n \\n© 2019 - News Parliament.  All Rights Reserved. \\n \\n  \n",
       "2  \\n\\nForget ML, AI and Industry 4.0 – obsolescence should be your focus - 26 February 2021 - Test & Rework Solutions - Dataweek\\nHome\\nAbout us\\nBack issues / E-book / PDF\\nEMP Handbook\\nSubscribe\\nAdvertise\\n\\nCategories\\n\\n▸ Editor's Choice\\n▸ Multimedia, Videos\\n▸ Analogue, Mixed Signal, LSI\\n▸ Circuit & System Protection\\n▸ Computer/Embedded Technology\\n▸ Design Automation\\n▸ DSP, Micros & Memory\\n▸ Electronics Technology\\n▸ Enclosures, Racks, Cabinets & Panel Products\\n▸ Events\\n▸ Interconnection\\n▸ Manufacturing / Production Technology, Hardware & Services\\n▸ News\\n▸ Opto-Electronics\\n▸ Passive Components\\n▸ Power Electronics / Power Management\\n▸ Programmable Logic\\n▸ Smart Home Automation\\n▸ Switches, Relays & Keypads\\n▸ Telecoms, Datacoms, Wireless, IoT\\n▸ Test & Measurement\\n \\n\\nCategories\\n\\nEditor's Choice\\n\\n\\nMultimedia, Videos\\n\\n\\nAnalogue, Mixed Signal, LSI\\n\\n\\nCircuit & System Protection\\n\\n\\nComputer/Embedded Technology\\n\\n\\nDesign Automation\\n\\n\\nDSP, Micros & Memory\\n\\n\\nElectronics Technology\\n\\n\\nEnclosures, Racks, Cabinets & Panel Products\\n\\n\\nEvents\\n\\n\\nInterconnection\\n\\n\\nManufacturing / Production Technology, Hardware & Services\\n\\n\\nNews\\n\\n\\nOpto-Electronics\\n\\n\\nPassive Components\\n\\n\\nPower Electronics / Power Management\\n\\n\\nProgrammable Logic\\n\\n\\nSmart Home Automation  \\n\\n\\nSwitches, Relays & Keypads\\n\\n\\nTelecoms, Datacoms, Wireless, IoT\\n\\n\\nTest & Measurement\\nManufacturing / Production Technology, Hardware & Services\\n\\nProduction/manufacturing equipment suppliers & service providers  \\n\\n printer friendly version\\nForget ML, AI and Industry 4.0 – obsolescence should be your focus\\n26 February 2021\\nManufacturing / Production Technology, Hardware & Services\\nBy Willian Santos, international sales manager at ABI Electronics.\\n\\nThe world entered a new era of accelerated transformation in the last eighteen months that will continue to evolve and press forward for years to come. Most businesses are playing catch-up trying to make sense of a new timeline where the ten years that had been set aside for careful planning and implementation of what was coming up next no longer exists. The next is happening now and, regardless of your industry or seniority, the status quo has shifted and you better face it. Back in 2019, I was invited to attend a pompous meeting in London at the Brazilian Embassy along with selected leading names from the oil and energy industry, to get an update on what was going to happen in the following decade. I could soon spot all the buzzwords coming up on PowerPoint slides from the different companies presenting: decommissioning, decarbonisation, zero emissions, transition to green energy. Throughout the morning and most of the afternoon, we heard that most of these changes would kick in between 2030-35. And I recall a Shell executive pointing out that the business had explicitly concluded that the current income streams were needed to provide the capital required for the transition to take place in due course.Whomever you talk to in the energy industry in 2021 would tell you to forget about that timeline. Change has come and the transition is happening much faster than anticipated, with big businesses scrambling to find the capital to fund all that is required. I could go on all day talking about how the pandemic and the impact it had on market demand and consumer behaviour messed up the timeline of transport, automotive, defence, manufacturing and so on. For instance, carrier planes that were due to be retired in 2017 are now required to remain in service at least until 2029. Projects in wind power involving upgrades of wind farms have been scrapped and new installations have drawn huge competition from up and coming brands with operators tending to favour smaller turbines – for being efficient and cheaper to run – and choosing to buy from multiple suppliers instead of just one company. Machine learning (ML), AI and Industry 4.0 knock at the door. Still, the biggest change yet to be fully appreciated by business leaders is how electronics effectively became the brain of every industrial asset and all infrastructure equipment in operation in recent years, and therefore what is required to deal with breakdowns and obsolescence. For instance, I lost count of the many rail connections that I have working in operations and maintenance who struggle with their CME – chief mechanical engineer – who, like the role suggests, is usually a mechanically-biased individual who may have a less than ideal approach when it comes to the handling of electronic failures. And you guessed right: less ideal means neither green nor cheap solutions, as illustrated in this video: www.dataweek.co.za/*mar21-abi Many decision-makers only realise the problem at hand and regret not following the tag #RepairDontWaste on LinkedIn in times like this, resulting in comments like, \"We did not anticipate that the equipment would become obsolete so quickly!\" or, \"Spare circuit boards started to take weeks then months to arrive. Then we were told that they would no longer be supplied. We were quoted seven-figure prices to upgrade our assembly line.\"By deferring the responsibility to the original equipment supplier and other third parties, you are bound to be caught off guard soon or later. And the risk exposure from insisting on this strategy is about to get exponentially higher; there is a widespread component shortage increasing lead times, and technology providers are dropping support for many products in order to remain viable.Last month, a wind turbine multinational in the US had to ship a bunch of expensive controller cards used in inverters and speed governing systems to its workshop in Brazil for repair as new replacement cards are not due back in stock for another six months. Good job that the local team had an electronic diagnostic equipment BoardMaster from ABI in the shop, ready to help the technicians locate the fault and repair the cards, which happened in record time.Poor decision-making when it comes to setting maintenance and repair strategies are often linked to ‘fake news’ and myths such as:• A repaired electronic card (PCB/PCBA) will never be as good as a new one.• The manufacturer told us that special software was required to troubleshoot the card.• Troubleshooting down to the component level is impossible or would take too long.• Dedicated test and repair equipment is prohibitively expensive.The mentality here needs to change, and fast. The longer you take to embrace the new strategies for in-house fault analysis, maintenance, and obsolescence planning of your key electronic circuits and assets, the more expensive it will get to keep them going. Hundreds of leading organisations have found in recent years that the belief in these myths was hindering their results and compromising the operation – from GE Renewable to Collins Aerospace, where the latter reduced troubleshooting times on avionics circuit cards from 50 hours to 10 minutes. Then there is Lego in Mexico, where controller cards from 600+ plastic moulding machines worth tens of thousands of dollars each have been mapped and are now repaired in-house. In the US, an army engineer saved a mobile shelter unit worth 10 million dollars from being decommissioned by repairing its HVAC circuit board that was deemed ‘irreparable’ by the OEM. In the rail arena, companies like Alstom, CAF, Bombardier and operators like Irish Rail, SFMTA, TCDD and so many others have discovered the benefits of investing in the right tool and skill development programme to shield the business against parts shortages and accelerated obsolescence. Some of their stories, and the technology that is driving several top-shelf global sustainability projects, were the subject of a YouTube series called ABI Labs. The series gives an in-depth review of the key tests and techniques available in the British-made BoardMaster hardware and software platform from ABI Electronics to handle predictive as well as corrective maintenance of critical electronics without wasting time or money. The ABI BoardMaster 19-inch rack universal diagnostic system is a uniquely versatile, self-contained and easy-to-use test system. It offers the most comprehensive set of test instruments for fault-finding on almost any kind of PCB. As the product of choice for companies operating in rail transport, aerospace, military, automotive, telecoms and a range of other industrial sectors, the BoardMaster is ABI Electronics’ top of the range solution that saves customers time and money, and increases asset availability and reliability. With the full range of instruments and a variety of test methods guaranteeing the best possible fault coverage, the BoardMaster 19-inch rack provides the ultimate in diagnostic tools.The BoardMaster 19-inch rack comes complete with ABI's multi-licence and user-friendly SYSTEM 8 Ultimate Software preinstalled. Customers are guaranteed to receive free software updates for life and will not be charged for additional seats or maintenance fees. The powerful yet easy-to-use software includes user access management, ABI's exclusive TestFlow Manager, as well as a wealth of customisation options.\\n\\nCredit(s)\\nTest & Rework Solutions\\nTel:\\n+27 11 704 6677\\n\\n\\nEmail: \\nsales@testandrework.co.za\\n\\n\\nwww:\\nwww.testandrework.co.za\\n\\n\\nArticles:\\nMore information and articles about Test & Rework Solutions\\nShare this article:\\nFurther reading:\\nSuccessful solder processing of high-density connector arrays \\n26 February 2021, Spectrum Concepts\\n, Manufacturing / Production Technology, Hardware & Services\\nProcessing a component onto a printed circuit board (PCB) used to be fairly straightforward. Through-hole products, or a single- or double-row surface mount component with a larger centreline, rarely ...\\nRead more...\\n\\nWater-based cleaners for electronic assemblies\\n26 February 2021, Vepac Electronics\\n, Manufacturing / Production Technology, Hardware & Services\\nThe purpose of cleaning, specifically within the rapidly expanding electronics industry, is essentially to improve product lifetime by ensuring good surface resistance and by preventing current leakage ...\\nRead more...\\n\\nPathfindr device helps people maintain safe social distancing\\n26 February 2021, RS Components (SA)\\n, Manufacturing / Production Technology, Hardware & Services\\nThe Safe Distancing Assistant from Pathfindr is a new addition to RS Components’ supplier portfolio specialising in asset intelligence using connectivity-enabled location tracking. \\r\\n\\r\\nDesigned for use ...\\nRead more...\\n\\nIndium features low-temp alloy at productronica China\\n26 February 2021, Techmet \\n, Manufacturing / Production Technology, Hardware & Services\\nIndium featured its award-winning Durafuse LT – a novel, low-temperature alloy system designed to provide high reliability in low-temperature applications – during productronica China, which was held ...\\nRead more...\\n\\nAssistance system supports efficient conductor processing\\n26 February 2021, Phoenix Contact\\n, Manufacturing / Production Technology, Hardware & Services\\nIn industrial control cabinet manufacturing, processes still feature multiple manual steps. Phoenix Contact offers a solution in the form of the ClipX WIRE assistance system from the ClipX product family, ...\\nRead more...\\n\\nBattery operated UV-C surface disinfector\\n26 February 2021, Electronic Industry Supplies\\n, Manufacturing / Production Technology, Hardware & Services\\nTouted by its maker, Heraeus, as the only battery operated UV-C surface disinfector in the world, the Soluva Zone H promises chemical-free, dry, contactless, fast, and absolutely reliable destruction ...\\nRead more...\\n\\nPCB laser marking and FPC laser cutting machines\\n25 November 2020, Zetech\\n, Manufacturing / Production Technology, Hardware & Services\\nPCB laser marking and FPC laser cutting machines from HGTech can be integrated with SMT inline operation. The laser marking machine is designed for barcode marking, 2D codes and characters, graphics and ...\\nRead more...\\n\\nHigh conductor pull-out values with square crimping shape\\n25 November 2020, Phoenix Contact\\n, Manufacturing / Production Technology, Hardware & Services\\nThe Crimpfox Vario 4S crimping tool from Phoenix Contact ensures reliable processing of insulated, uninsulated, and TWIN ferrules.The integrated pressure lock guarantees a complete and process-reliable ...\\nRead more...\\n\\nDirectory of Suppliers 2021 \\nEMP 2021 Electronics Manufacturing & Production Handbook\\n, Manufacturing / Production Technology, Hardware & Services\\nContact details and core business offering of prominent and trusted companies involved in, and supplying to, the local electronics manufacturing industry.\\nRead more...\\n\\nThe same old new normal\\nEMP 2021 Electronics Manufacturing & Production Handbook, Barracuda Holdings, Jemstech, Production Logix\\n, Manufacturing / Production Technology, Hardware & Services\\nTo find out how local contract electronics manufacturers have coped with the financial and operational fallout from the pandemic, Dataweek conducted a Q&A with three of them.\\nRead more...\\n\\n \\n\\n \\n \\n\\nTechnews Publishing (Pty) Ltd\\n1st Floor, Stabilitas House\\n265 Kent Ave, Randburg, 2194\\nSouth Africa\\nPublications by Technews\\n»  Dataweek Electronics & Communications Technology\\n»  Electronics Buyers' Guide (EBG)\\n»  Hi-Tech Security Solutions\\n»  Hi-Tech Security Business Directory\\n»  Motion Control in Southern Africa\\n»  Motion Control Buyers' Guide (MCBG)\\n»  South African Instrumentation & Control\\n»  South African Instrumentation & Control Buyers' Guide (IBG)\\n© Technews Publishing (Pty) Ltd | All Rights Reserved\\n  "
      ]
     },
     "execution_count": 8,
     "metadata": {},
     "output_type": "execute_result"
    }
   ],
   "source": [
    "pd.set_option('display.max_colwidth', None)\n",
    "df_news_final_project.head(3)"
   ]
  },
  {
   "cell_type": "code",
   "execution_count": 11,
   "id": "16997ebb-01a0-46a3-aa36-b94f24a44a10",
   "metadata": {},
   "outputs": [
    {
     "data": {
      "text/html": [
       "<div>\n",
       "<style scoped>\n",
       "    .dataframe tbody tr th:only-of-type {\n",
       "        vertical-align: middle;\n",
       "    }\n",
       "\n",
       "    .dataframe tbody tr th {\n",
       "        vertical-align: top;\n",
       "    }\n",
       "\n",
       "    .dataframe thead th {\n",
       "        text-align: right;\n",
       "    }\n",
       "</style>\n",
       "<table border=\"1\" class=\"dataframe\">\n",
       "  <thead>\n",
       "    <tr style=\"text-align: right;\">\n",
       "      <th></th>\n",
       "      <th>url</th>\n",
       "      <th>date</th>\n",
       "      <th>title</th>\n",
       "      <th>text</th>\n",
       "    </tr>\n",
       "  </thead>\n",
       "  <tbody>\n",
       "    <tr>\n",
       "      <th>0</th>\n",
       "      <td>http://en.people.cn/n3/2021/0318/c90000-9830122.html</td>\n",
       "      <td>2021-03-18</td>\n",
       "      <td>Artificial intelligence improves parking efficiency in Chinese cities - People's Daily Online</td>\n",
       "      <td>\\n\\nArtificial intelligence improves parking efficiency in Chinese cities - People's Daily Online\\n\\nHome\\nChina Politics\\nForeign Affairs\\nOpinions\\nVideo: We Are China\\nBusiness\\nMilitary\\nWorld\\nSociety\\nCulture\\nTravel\\nScience\\nSports\\nPhoto\\n\\nLanguages\\n\\nChinese\\nJapanese\\nFrench\\nSpanish\\nRussian\\nArabic\\nKorean\\nGerman\\nPortuguese\\nThursday, March 18, 2021\\nHome&gt;&gt;\\n\\t\\t\\nArtificial intelligence improves parking efficiency in Chinese cities\\nBy Liu Shiyao (People's Daily) 09:16, March 18, 2021\\nPhoto taken on July 1, 2019, shows a sign for electronic toll collection (ETC) newly set up at a roadside parking space on Yangzhuang road, Shijingshan district, Beijing. Some urban areas of the city started to use ETC system for roadside parking spaces since July 1, 2019. (People’s Daily Online/Li Wenming)\\n\\n\\tThanks to the application of an artificial intelligence (AI)-empowered roadside electronic toll collection (ETC) system, China’s capital city Beijing has seen significant improvement in the efficiency of parking fee collection, turnover of roadside parking spots, order in roadside parking, as well as traffic congestion.\\n\\n\\tAs the city further deepens its roadside parking reform, the ETC system has almost covered all the roadside parking spaces in the city, with the proportion of vehicles parked on roads using the system exceeding 90 percent.\\n\\n\\tWith the AI-empowered system, drivers can park their vehicles at the parking spots on the roadside, and then pay the parking charge via their mobile phones after they drive away.\\n\\n\\t“This road used to be full of cars, and even the normal lanes were occupied. You could hardly move a bit during the morning and evening commute time,” recalled a citizen surnamed Wang, who lives in Chaoyang district of Beijing.\\n\\n\\t“Since the summer of 2019, roadside ETC devices have been installed here. With all the cars being parked in designated parking spots on the roadside, the road now seems brighter and wider,” Wang said.\\n\\n\\tThe smart roadside ETC system “AIpark Sky Eye” adopted by Beijing is developed, operated, and maintained by AIpark, a Beijing-based leading smart parking solution provider.\\n\\n\\tThe company’s intelligent system has brought into full play the advantages of AI technologies and effectively addressed the shortage of parking spaces and the problem of irregular parking in cities. The system has therefore been listed among the country’s innovation projects that integrate AI deeply into the real economy in 2018 by China’s Ministry of Industry and Information Technology (MIIT).\\n\\n\\tTraditional parking management equipment and monitoring devices have failed to meet the actual needs of cities due to limited application scenarios and technical capacity. There are many deficiencies in traditional parking systems. For example, magnetic devices cannot identify detailed information about vehicles; each video monitoring pile can only cover one parking spot; and manual collection of parking fees costs too much.\\n\\n\\tSuch problems don’t exist in smart machines. The “AIpark Sky Eye” system boasts strong stability and high recognition rate. Besides, it can resist the interference of extreme weather conditions like rain, snow, and fog, and form complete graphic evidence based on wheel path of vehicles.\\n\\n\\tEach set of cameras of the “AIpark Sky Eye” system can monitor multiple parking spots at the same time for 24 hours a day. The data collected by front-end cameras are processed using multi-dimensional deep learning algorithm before they are uploaded on to an AI computing cloud platform for data enrichment. The platform then distributes identification results to transport authorities.\\n\\n\\tThe most distinctive innovation in the technological package of the system is precision brought about by high-mounted parking system cameras, according to Xiang Yanping, senior vice president of AIpark, noting that the cameras can recognize more complex static and dynamic reality scenes.\\n\\n\\t“For example, the equipment can accurately identify irregular parking behaviors and state such as double parking and frequent maneuvers, precisely recognize detailed information including plate number and vehicle color, and make good judgment on the behaviors of drivers and pedestrians,” Xiang said.\\n\\n\\tOnce the high-mounted parking system cameras are installed, they can help with many aspects of integrated urban governance, which represents another advantage of the “AIpark Sky Eye” system.\\n\\n\\tBesides managing parking fee collection, high-mounted camera system can also provide data for traffic improvements. The snapshots obtained from the camera system can help solve problems including illegal and inappropriate parking and vehicle theft.\\n\\n\\tSo far, the smart ETC system of AIpark has been introduced into more than 20 cities in China, signaling increasingly important roles of AI in improving parking efficiency and order as well as new development opportunities for smart parking industry.\\n【1】【2】【3】\\nPhotos\\nNaval fleet steams in East China Sea\\nNewborn golden snub-nosed monkey makes debut\\nIn pics: birds across China\\nGrain painting studio helps villagers to increase income\\nRelated Stories\\nExhibition highlighting art-science integration opens in BeijingChina’s AI industry poised to enter boom timesAlibaba outlines 10 technology trends for 2019China’s leading AI enterprise iFlytek to develop health information technologyCheetah Mobile wades into artificial intelligenceChina overtakes the US in investment in AI5 million artificial intelligence talents urgently needed in ChinaGraduate students give 'voice' to sign languageArtificial Intelligence in real livesMicrosoft embraces artificial intelligence\\nAbout People's Daily Online |  Join Us | Contact Us\\nCopyright © 2021 People's Daily Online. All Rights Reserved.\\n\\t\\n</td>\n",
       "    </tr>\n",
       "  </tbody>\n",
       "</table>\n",
       "</div>"
      ],
      "text/plain": [
       "                                                    url        date   \n",
       "0  http://en.people.cn/n3/2021/0318/c90000-9830122.html  2021-03-18  \\\n",
       "\n",
       "                                                                                           title   \n",
       "0  Artificial intelligence improves parking efficiency in Chinese cities - People's Daily Online  \\\n",
       "\n",
       "                                                                                                                                                                                                                                                                                                                                                                                                                                                                                                                                                                                                                                                                                                                                                                                                                                                                                                                                                                                                                                                                                                                                                                                                                                                                                                                                                                                                                                                                                                                                                                                                                                                                                                                                                                                                                                                                                                                                                                                                                                                                                                                                                                                                                                                                                                                                                                                                                                                                                                                                                                                                                                                                                                                                                                                                                                                                                                                                                                                                                                                                                                                                                                                                                                                                                                                                                                                                                                                                                                                                                                                                                                                                                                                                                                                                                                                                                                                                                                                                                                                                                                                                                                                                                                                                                                                                                                                                                                                                                                                                                                                                                                                                                                                                                                                                                                                                                                                                                                                                                                                                                                                                                                                                                                                                                                                                                                                                                                                                                                                                                                                                                                                                                                                                                                                                                                                                                                                                                                                                                                                                                      text  \n",
       "0  \\n\\nArtificial intelligence improves parking efficiency in Chinese cities - People's Daily Online\\n\\nHome\\nChina Politics\\nForeign Affairs\\nOpinions\\nVideo: We Are China\\nBusiness\\nMilitary\\nWorld\\nSociety\\nCulture\\nTravel\\nScience\\nSports\\nPhoto\\n\\nLanguages\\n\\nChinese\\nJapanese\\nFrench\\nSpanish\\nRussian\\nArabic\\nKorean\\nGerman\\nPortuguese\\nThursday, March 18, 2021\\nHome>>\\n\\t\\t\\nArtificial intelligence improves parking efficiency in Chinese cities\\nBy Liu Shiyao (People's Daily) 09:16, March 18, 2021\\nPhoto taken on July 1, 2019, shows a sign for electronic toll collection (ETC) newly set up at a roadside parking space on Yangzhuang road, Shijingshan district, Beijing. Some urban areas of the city started to use ETC system for roadside parking spaces since July 1, 2019. (People’s Daily Online/Li Wenming)\\n\\n\\tThanks to the application of an artificial intelligence (AI)-empowered roadside electronic toll collection (ETC) system, China’s capital city Beijing has seen significant improvement in the efficiency of parking fee collection, turnover of roadside parking spots, order in roadside parking, as well as traffic congestion.\\n\\n\\tAs the city further deepens its roadside parking reform, the ETC system has almost covered all the roadside parking spaces in the city, with the proportion of vehicles parked on roads using the system exceeding 90 percent.\\n\\n\\tWith the AI-empowered system, drivers can park their vehicles at the parking spots on the roadside, and then pay the parking charge via their mobile phones after they drive away.\\n\\n\\t“This road used to be full of cars, and even the normal lanes were occupied. You could hardly move a bit during the morning and evening commute time,” recalled a citizen surnamed Wang, who lives in Chaoyang district of Beijing.\\n\\n\\t“Since the summer of 2019, roadside ETC devices have been installed here. With all the cars being parked in designated parking spots on the roadside, the road now seems brighter and wider,” Wang said.\\n\\n\\tThe smart roadside ETC system “AIpark Sky Eye” adopted by Beijing is developed, operated, and maintained by AIpark, a Beijing-based leading smart parking solution provider.\\n\\n\\tThe company’s intelligent system has brought into full play the advantages of AI technologies and effectively addressed the shortage of parking spaces and the problem of irregular parking in cities. The system has therefore been listed among the country’s innovation projects that integrate AI deeply into the real economy in 2018 by China’s Ministry of Industry and Information Technology (MIIT).\\n\\n\\tTraditional parking management equipment and monitoring devices have failed to meet the actual needs of cities due to limited application scenarios and technical capacity. There are many deficiencies in traditional parking systems. For example, magnetic devices cannot identify detailed information about vehicles; each video monitoring pile can only cover one parking spot; and manual collection of parking fees costs too much.\\n\\n\\tSuch problems don’t exist in smart machines. The “AIpark Sky Eye” system boasts strong stability and high recognition rate. Besides, it can resist the interference of extreme weather conditions like rain, snow, and fog, and form complete graphic evidence based on wheel path of vehicles.\\n\\n\\tEach set of cameras of the “AIpark Sky Eye” system can monitor multiple parking spots at the same time for 24 hours a day. The data collected by front-end cameras are processed using multi-dimensional deep learning algorithm before they are uploaded on to an AI computing cloud platform for data enrichment. The platform then distributes identification results to transport authorities.\\n\\n\\tThe most distinctive innovation in the technological package of the system is precision brought about by high-mounted parking system cameras, according to Xiang Yanping, senior vice president of AIpark, noting that the cameras can recognize more complex static and dynamic reality scenes.\\n\\n\\t“For example, the equipment can accurately identify irregular parking behaviors and state such as double parking and frequent maneuvers, precisely recognize detailed information including plate number and vehicle color, and make good judgment on the behaviors of drivers and pedestrians,” Xiang said.\\n\\n\\tOnce the high-mounted parking system cameras are installed, they can help with many aspects of integrated urban governance, which represents another advantage of the “AIpark Sky Eye” system.\\n\\n\\tBesides managing parking fee collection, high-mounted camera system can also provide data for traffic improvements. The snapshots obtained from the camera system can help solve problems including illegal and inappropriate parking and vehicle theft.\\n\\n\\tSo far, the smart ETC system of AIpark has been introduced into more than 20 cities in China, signaling increasingly important roles of AI in improving parking efficiency and order as well as new development opportunities for smart parking industry.\\n【1】【2】【3】\\nPhotos\\nNaval fleet steams in East China Sea\\nNewborn golden snub-nosed monkey makes debut\\nIn pics: birds across China\\nGrain painting studio helps villagers to increase income\\nRelated Stories\\nExhibition highlighting art-science integration opens in BeijingChina’s AI industry poised to enter boom timesAlibaba outlines 10 technology trends for 2019China’s leading AI enterprise iFlytek to develop health information technologyCheetah Mobile wades into artificial intelligenceChina overtakes the US in investment in AI5 million artificial intelligence talents urgently needed in ChinaGraduate students give 'voice' to sign languageArtificial Intelligence in real livesMicrosoft embraces artificial intelligence\\nAbout People's Daily Online |  Join Us | Contact Us\\nCopyright © 2021 People's Daily Online. All Rights Reserved.\\n\\t\\n  "
      ]
     },
     "execution_count": 11,
     "metadata": {},
     "output_type": "execute_result"
    }
   ],
   "source": [
    "df_news = df_news_final_project.copy()\n",
    "df_news.drop(columns = 'language', inplace = True)\n",
    "df_news.head(1)"
   ]
  },
  {
   "cell_type": "code",
   "execution_count": 12,
   "id": "6c358f4d-0166-4795-9c74-accbe01ecb0a",
   "metadata": {},
   "outputs": [
    {
     "data": {
      "text/plain": [
       "datetime.date(2020, 1, 1)"
      ]
     },
     "execution_count": 12,
     "metadata": {},
     "output_type": "execute_result"
    }
   ],
   "source": [
    "df_news['date'].min()"
   ]
  },
  {
   "cell_type": "code",
   "execution_count": 13,
   "id": "f9f4895c-0811-43e4-b59c-fbb26f6cfe1a",
   "metadata": {},
   "outputs": [
    {
     "data": {
      "text/plain": [
       "datetime.date(2023, 4, 28)"
      ]
     },
     "execution_count": 13,
     "metadata": {},
     "output_type": "execute_result"
    }
   ],
   "source": [
    "df_news['date'].max()"
   ]
  },
  {
   "cell_type": "code",
   "execution_count": 14,
   "id": "77bce478-e776-40b2-b4b1-945394f5a4e5",
   "metadata": {},
   "outputs": [],
   "source": [
    "def clean_text(text):\n",
    "    \n",
    "    # import nltk\n",
    "    import re\n",
    "    import string\n",
    "\n",
    "    text = re.sub(r'[\\|\\t\\n\\r@#()]', ' ',str(text))\n",
    "    text = re.sub(r'\\b\\w{14,}\\b', ' ', text)\n",
    "    text = re.sub(r'[0-9]', ' ', text)\n",
    "    \n",
    "    # # Remove links\n",
    "    text = re.sub('https?:\\/\\/\\S+', ' ',text)\n",
    "    text = re.sub('www\\.[\\w-]+\\.[\\w-]{2,3}', ' ',text)\n",
    "    \n",
    "    text = re.sub('\\s+',' ',text)\n",
    "    \n",
    "    text = ''.join([x if x in string.printable else '' for x in text])\n",
    "\n",
    "    return text"
   ]
  },
  {
   "cell_type": "code",
   "execution_count": 15,
   "id": "b426658b-2a30-41c1-a1f6-4d35a28b47c0",
   "metadata": {},
   "outputs": [
    {
     "name": "stdout",
     "output_type": "stream",
     "text": [
      "INFO: Pandarallel will run on 15 workers.\n",
      "INFO: Pandarallel will use standard multiprocessing data transfer (pipe) to transfer data between the main process and workers.\n"
     ]
    }
   ],
   "source": [
    "from pandarallel import pandarallel\n",
    "pandarallel.initialize(nb_workers=15, use_memory_fs=False)"
   ]
  },
  {
   "cell_type": "code",
   "execution_count": 17,
   "id": "70bce332-e16a-4b65-bb46-f129cb38884d",
   "metadata": {},
   "outputs": [
    {
     "data": {
      "text/html": [
       "<div>\n",
       "<style scoped>\n",
       "    .dataframe tbody tr th:only-of-type {\n",
       "        vertical-align: middle;\n",
       "    }\n",
       "\n",
       "    .dataframe tbody tr th {\n",
       "        vertical-align: top;\n",
       "    }\n",
       "\n",
       "    .dataframe thead th {\n",
       "        text-align: right;\n",
       "    }\n",
       "</style>\n",
       "<table border=\"1\" class=\"dataframe\">\n",
       "  <thead>\n",
       "    <tr style=\"text-align: right;\">\n",
       "      <th></th>\n",
       "      <th>url</th>\n",
       "      <th>date</th>\n",
       "      <th>title</th>\n",
       "      <th>text</th>\n",
       "    </tr>\n",
       "  </thead>\n",
       "  <tbody>\n",
       "    <tr>\n",
       "      <th>0</th>\n",
       "      <td>http://en.people.cn/n3/2021/0318/c90000-9830122.html</td>\n",
       "      <td>2021-03-18</td>\n",
       "      <td>Artificial intelligence improves parking efficiency in Chinese cities - People's Daily Online</td>\n",
       "      <td>Artificial intelligence improves parking efficiency in Chinese cities - People's Daily Online Home China Politics Foreign Affairs Opinions Video: We Are China Business Military World Society Culture Travel Science Sports Photo Languages Chinese Japanese French Spanish Russian Arabic Korean German Portuguese Thursday, March , Home&gt;&gt; Artificial intelligence improves parking efficiency in Chinese cities By Liu Shiyao People's Daily : , March , Photo taken on July , , shows a sign for electronic toll collection ETC newly set up at a roadside parking space on Yangzhuang road, Shijingshan district, Beijing. Some urban areas of the city started to use ETC system for roadside parking spaces since July , . Peoples Daily Online/Li Wenming Thanks to the application of an artificial intelligence AI -empowered roadside electronic toll collection ETC system, Chinas capital city Beijing has seen significant improvement in the efficiency of parking fee collection, turnover of roadside parking spots, order in roadside parking, as well as traffic congestion. As the city further deepens its roadside parking reform, the ETC system has almost covered all the roadside parking spaces in the city, with the proportion of vehicles parked on roads using the system exceeding percent. With the AI-empowered system, drivers can park their vehicles at the parking spots on the roadside, and then pay the parking charge via their mobile phones after they drive away. This road used to be full of cars, and even the normal lanes were occupied. You could hardly move a bit during the morning and evening commute time, recalled a citizen surnamed Wang, who lives in Chaoyang district of Beijing. Since the summer of , roadside ETC devices have been installed here. With all the cars being parked in designated parking spots on the roadside, the road now seems brighter and wider, Wang said. The smart roadside ETC system AIpark Sky Eye adopted by Beijing is developed, operated, and maintained by AIpark, a Beijing-based leading smart parking solution provider. The companys intelligent system has brought into full play the advantages of AI technologies and effectively addressed the shortage of parking spaces and the problem of irregular parking in cities. The system has therefore been listed among the countrys innovation projects that integrate AI deeply into the real economy in by Chinas Ministry of Industry and Information Technology MIIT . Traditional parking management equipment and monitoring devices have failed to meet the actual needs of cities due to limited application scenarios and technical capacity. There are many deficiencies in traditional parking systems. For example, magnetic devices cannot identify detailed information about vehicles; each video monitoring pile can only cover one parking spot; and manual collection of parking fees costs too much. Such problems dont exist in smart machines. The AIpark Sky Eye system boasts strong stability and high recognition rate. Besides, it can resist the interference of extreme weather conditions like rain, snow, and fog, and form complete graphic evidence based on wheel path of vehicles. Each set of cameras of the AIpark Sky Eye system can monitor multiple parking spots at the same time for hours a day. The data collected by front-end cameras are processed using multi-dimensional deep learning algorithm before they are uploaded on to an AI computing cloud platform for data enrichment. The platform then distributes results to transport authorities. The most distinctive innovation in the technological package of the system is precision brought about by high-mounted parking system cameras, according to Xiang Yanping, senior vice president of AIpark, noting that the cameras can recognize more complex static and dynamic reality scenes. For example, the equipment can accurately identify irregular parking behaviors and state such as double parking and frequent maneuvers, precisely recognize detailed information including plate number and vehicle color, and make good judgment on the behaviors of drivers and pedestrians, Xiang said. Once the high-mounted parking system cameras are installed, they can help with many aspects of integrated urban governance, which represents another advantage of the AIpark Sky Eye system. Besides managing parking fee collection, high-mounted camera system can also provide data for traffic improvements. The snapshots obtained from the camera system can help solve problems including illegal and inappropriate parking and vehicle theft. So far, the smart ETC system of AIpark has been introduced into more than cities in China, signaling increasingly important roles of AI in improving parking efficiency and order as well as new development opportunities for smart parking industry.     Photos Naval fleet steams in East China Sea Newborn golden snub-nosed monkey makes debut In pics: birds across China Grain painting studio helps villagers to increase income Related Stories Exhibition highlighting art-science integration opens in BeijingChinas AI industry poised to enter boom timesAlibaba outlines technology trends for Chinas leading AI enterprise iFlytek to develop health information Mobile wades into artificial overtakes the US in investment in AI million artificial intelligence talents urgently needed in ChinaGraduate students give 'voice' to sign Intelligence in real embraces artificial intelligence About People's Daily Online Join Us Contact Us Copyright  People's Daily Online. All Rights Reserved.</td>\n",
       "    </tr>\n",
       "  </tbody>\n",
       "</table>\n",
       "</div>"
      ],
      "text/plain": [
       "                                                    url        date   \n",
       "0  http://en.people.cn/n3/2021/0318/c90000-9830122.html  2021-03-18  \\\n",
       "\n",
       "                                                                                           title   \n",
       "0  Artificial intelligence improves parking efficiency in Chinese cities - People's Daily Online  \\\n",
       "\n",
       "                                                                                                                                                                                                                                                                                                                                                                                                                                                                                                                                                                                                                                                                                                                                                                                                                                                                                                                                                                                                                                                                                                                                                                                                                                                                                                                                                                                                                                                                                                                                                                                                                                                                                                                                                                                                                                                                                                                                                                                                                                                                                                                                                                                                                                                                                                                                                                                                                                                                                                                                                                                                                                                                                                                                                                                                                                                                                                                                                                                                                                                                                                                                                                                                                                                                                                                                                                                                                                                                                                                                                                                                                                                                                                                                                                                                                                                                                                                                                                                                                                                                                                                                                                                                                                                                                                                                                                                                                                                                                                                                                                                                                                                                                                                                                                                                                                                                                                                                                                                                                                                                                                                                                                                                                                                                                                                                                                                                                                                                                                                                                                                                                                                                                                                                                     text  \n",
       "0   Artificial intelligence improves parking efficiency in Chinese cities - People's Daily Online Home China Politics Foreign Affairs Opinions Video: We Are China Business Military World Society Culture Travel Science Sports Photo Languages Chinese Japanese French Spanish Russian Arabic Korean German Portuguese Thursday, March , Home>> Artificial intelligence improves parking efficiency in Chinese cities By Liu Shiyao People's Daily : , March , Photo taken on July , , shows a sign for electronic toll collection ETC newly set up at a roadside parking space on Yangzhuang road, Shijingshan district, Beijing. Some urban areas of the city started to use ETC system for roadside parking spaces since July , . Peoples Daily Online/Li Wenming Thanks to the application of an artificial intelligence AI -empowered roadside electronic toll collection ETC system, Chinas capital city Beijing has seen significant improvement in the efficiency of parking fee collection, turnover of roadside parking spots, order in roadside parking, as well as traffic congestion. As the city further deepens its roadside parking reform, the ETC system has almost covered all the roadside parking spaces in the city, with the proportion of vehicles parked on roads using the system exceeding percent. With the AI-empowered system, drivers can park their vehicles at the parking spots on the roadside, and then pay the parking charge via their mobile phones after they drive away. This road used to be full of cars, and even the normal lanes were occupied. You could hardly move a bit during the morning and evening commute time, recalled a citizen surnamed Wang, who lives in Chaoyang district of Beijing. Since the summer of , roadside ETC devices have been installed here. With all the cars being parked in designated parking spots on the roadside, the road now seems brighter and wider, Wang said. The smart roadside ETC system AIpark Sky Eye adopted by Beijing is developed, operated, and maintained by AIpark, a Beijing-based leading smart parking solution provider. The companys intelligent system has brought into full play the advantages of AI technologies and effectively addressed the shortage of parking spaces and the problem of irregular parking in cities. The system has therefore been listed among the countrys innovation projects that integrate AI deeply into the real economy in by Chinas Ministry of Industry and Information Technology MIIT . Traditional parking management equipment and monitoring devices have failed to meet the actual needs of cities due to limited application scenarios and technical capacity. There are many deficiencies in traditional parking systems. For example, magnetic devices cannot identify detailed information about vehicles; each video monitoring pile can only cover one parking spot; and manual collection of parking fees costs too much. Such problems dont exist in smart machines. The AIpark Sky Eye system boasts strong stability and high recognition rate. Besides, it can resist the interference of extreme weather conditions like rain, snow, and fog, and form complete graphic evidence based on wheel path of vehicles. Each set of cameras of the AIpark Sky Eye system can monitor multiple parking spots at the same time for hours a day. The data collected by front-end cameras are processed using multi-dimensional deep learning algorithm before they are uploaded on to an AI computing cloud platform for data enrichment. The platform then distributes results to transport authorities. The most distinctive innovation in the technological package of the system is precision brought about by high-mounted parking system cameras, according to Xiang Yanping, senior vice president of AIpark, noting that the cameras can recognize more complex static and dynamic reality scenes. For example, the equipment can accurately identify irregular parking behaviors and state such as double parking and frequent maneuvers, precisely recognize detailed information including plate number and vehicle color, and make good judgment on the behaviors of drivers and pedestrians, Xiang said. Once the high-mounted parking system cameras are installed, they can help with many aspects of integrated urban governance, which represents another advantage of the AIpark Sky Eye system. Besides managing parking fee collection, high-mounted camera system can also provide data for traffic improvements. The snapshots obtained from the camera system can help solve problems including illegal and inappropriate parking and vehicle theft. So far, the smart ETC system of AIpark has been introduced into more than cities in China, signaling increasingly important roles of AI in improving parking efficiency and order as well as new development opportunities for smart parking industry.     Photos Naval fleet steams in East China Sea Newborn golden snub-nosed monkey makes debut In pics: birds across China Grain painting studio helps villagers to increase income Related Stories Exhibition highlighting art-science integration opens in BeijingChinas AI industry poised to enter boom timesAlibaba outlines technology trends for Chinas leading AI enterprise iFlytek to develop health information Mobile wades into artificial overtakes the US in investment in AI million artificial intelligence talents urgently needed in ChinaGraduate students give 'voice' to sign Intelligence in real embraces artificial intelligence About People's Daily Online Join Us Contact Us Copyright  People's Daily Online. All Rights Reserved.   "
      ]
     },
     "execution_count": 17,
     "metadata": {},
     "output_type": "execute_result"
    }
   ],
   "source": [
    "df_news['title'] = df_news['title'].parallel_apply(clean_text)\n",
    "df_news['text'] = df_news['text'].parallel_apply(clean_text)\n",
    "df_news.head(1)"
   ]
  },
  {
   "cell_type": "code",
   "execution_count": 18,
   "id": "c15902fc-2acb-4b55-b0e7-3ee8ddb005e7",
   "metadata": {},
   "outputs": [],
   "source": [
    "def news_tokenize_and_clean_title(text, stopwords):\n",
    "    \n",
    "    import nltk\n",
    "    import re\n",
    "\n",
    "    #Tokenize\n",
    "    tokens = nltk.word_tokenize(text)\n",
    "    \n",
    "#     tokens = tokenizer2(text)\n",
    "   \n",
    "    # Remove single-character tokens\n",
    "    tokens = [token for token in tokens if len(token) > 1]\n",
    "    \n",
    "    # Remove character tokens with length > 14\n",
    "    tokens = [token for token in tokens if len(token) <= 14]\n",
    "\n",
    "    # Remove numbers\n",
    "    tokens = [token for token in tokens if not token.isnumeric()]\n",
    "    \n",
    "    # Remove punctuation\n",
    "    tokens = [token for token in tokens if token.isalpha()]\n",
    "\n",
    "    # Lowercase all tokens (default_stopwords are lowercase too)\n",
    "    tokens = [token.lower() for token in tokens]\n",
    "\n",
    "    # Remove stopwords\n",
    "    tokens = [token for token in tokens if token not in stopwords]\n",
    "    \n",
    "    return tokens"
   ]
  },
  {
   "cell_type": "code",
   "execution_count": 19,
   "id": "a89e1231-7430-42d9-88d9-44fefd5c1165",
   "metadata": {},
   "outputs": [],
   "source": [
    "def news_tokenize_and_clean_text(text, stopwords, custom_stopwords):\n",
    "    \n",
    "    import nltk\n",
    "    import re\n",
    "\n",
    "    #Tokenize\n",
    "    tokens = nltk.word_tokenize(text)\n",
    "   \n",
    "    # Remove single-character tokens\n",
    "    tokens = [token for token in tokens if len(token) > 1]\n",
    "    \n",
    "    # Remove character tokens with length > 14\n",
    "    tokens = [token for token in tokens if len(token) <= 14]\n",
    "\n",
    "    # Remove numbers\n",
    "    tokens = [token for token in tokens if not token.isnumeric()]\n",
    "    \n",
    "    # Remove punctuation\n",
    "    tokens = [token for token in tokens if token.isalpha()]\n",
    "\n",
    "    # Lowercase all tokens (default_stopwords are lowercase too)\n",
    "    tokens = [token.lower() for token in tokens]\n",
    "\n",
    "    # Remove stopwords\n",
    "    tokens = [token for token in tokens if token not in stopwords]\n",
    "    \n",
    "    #Remove stopwords\n",
    "    tokens = [token for token in tokens if token not in custom_stopwords]\n",
    "\n",
    "    #Lemmatize\n",
    "    wnl = nltk.WordNetLemmatizer()\n",
    "    tokens = [wnl.lemmatize(token) for token in tokens]\n",
    "    \n",
    "    # Remove single-character tokens\n",
    "    tokens = [token for token in tokens if len(token) > 1]\n",
    "    \n",
    "    return tokens"
   ]
  },
  {
   "cell_type": "code",
   "execution_count": 20,
   "id": "d2e240a4-e603-4281-9bc0-294c9be8ca94",
   "metadata": {},
   "outputs": [],
   "source": [
    "def tokens_to_text(tokens):\n",
    "    \n",
    "    if  len(tokens)> 250:\n",
    "        new_text = \" \".join(tokens[0:250])\n",
    "    else:\n",
    "        new_text = \" \".join(tokens)\n",
    "    return new_text"
   ]
  },
  {
   "cell_type": "code",
   "execution_count": 21,
   "id": "a78f1fd4-96e7-4932-917b-4d84cf949211",
   "metadata": {},
   "outputs": [],
   "source": [
    "import warnings\n",
    "warnings.filterwarnings(\"ignore\")"
   ]
  },
  {
   "cell_type": "code",
   "execution_count": 22,
   "id": "b9d63451-3545-495a-a18f-85e866ba5213",
   "metadata": {},
   "outputs": [],
   "source": [
    "import spacy\n",
    "nlp = spacy.load(\"en_core_web_sm\", disable=['parser', 'ner'])"
   ]
  },
  {
   "cell_type": "code",
   "execution_count": 23,
   "id": "769d8065-9cc0-4ef6-a2bb-0033c5594425",
   "metadata": {},
   "outputs": [
    {
     "name": "stderr",
     "output_type": "stream",
     "text": [
      "[nltk_data] Downloading package punkt to /home/jupyter/nltk_data...\n",
      "[nltk_data]   Package punkt is already up-to-date!\n"
     ]
    },
    {
     "data": {
      "text/plain": [
       "True"
      ]
     },
     "execution_count": 23,
     "metadata": {},
     "output_type": "execute_result"
    }
   ],
   "source": [
    "nltk.download('punkt')"
   ]
  },
  {
   "cell_type": "code",
   "execution_count": 25,
   "id": "37097a95-6c52-4714-aaad-7fe10d23b00d",
   "metadata": {},
   "outputs": [
    {
     "data": {
      "text/plain": [
       "0                                                                                                                                  Artificial intelligence improves parking efficiency in Chinese cities - People's Daily Online\n",
       "1                                                                                                            Children With Autism Saw Their Learning and Social Skills Boosted After Playing With This AI Robot  News Parliament\n",
       "2                                                                                                                Forget ML, AI and Industry .  obsolescence should be your focus - February - Test & Rework Solutions - Dataweek\n",
       "3                                                                                                                             Strategy Analytics: % of Smartphones Sold Globally in will be AI Powered  Consumer Electronics Net\n",
       "4                                                                                      Olympus to Support Endoscopic AI Diagnosis Education for Doctors in India and to Launch AI Diagnostic Support Application IT Business Net\n",
       "5                                                                                                                                                              Cr Bard Inc Has Returned . % Since SmarTrend BCR Comtex SmarTrend\n",
       "6                                                                                                                  From the Bard to broadcaster: Stratford Festival builds new identity with streamer National Entertainment .ca\n",
       "7                                                                                                                       MulticoreWare Inc. Becomes CEVAs Trusted Partner for Imaging & Computer Vision  Consumer Electronics Net\n",
       "8                                                                                                                                                       Applitools Visual AI Reaches One Billion Images Analyzed IT Business Net\n",
       "9     Artificial Intelligence In Behavioral And Mental Health Care Market to Witness Astonishing Growth by Focusing on Leading Players  AdvancedMD , Cerner , Core Solutions , Credible Behavioral Health  w Market News Reports\n",
       "10                                                                            AI/ Machine Learning Market Expected to Reach $XX Million by  IBM, BAIDU, SOUNDHOUND, ZEBRA MEDICAL VISION, PRISMA, IRIS AI  w Market News Reports\n",
       "11                                                  According to Latest Report on Machine Learning Courses Market to Grow with an Impressive CAGR: Top Key Players  EdX, Ivy Professional School, NobleProg, etc.  rd Watch News\n",
       "12                                                                         AI Marketplace Enlargement Possibilities, Regional Traits and Call for, Most sensible Avid gamers, Alternatives with Forecasts  w Market News Reports\n",
       "13                                                                                                                                                          Apple bought more AI companies than anyone else between and - to Mac\n",
       "14                                                                                                                                                  Video Trump deepfakes on social media prompt warnings of AI risks - ABC News\n",
       "15                                                                                                                               EU imposes sweeping regulations on facial recognition, Artificial Intelligence Video - ABC News\n",
       "16                                                                                                                                                                             Calling All Startups in the AI Space - Africa.com\n",
       "17                                                                                                                                                         Michael Schumacher family to take legal action over fake AI interview\n",
       "18                                                                                               ePrint Report: Differential-ML Distinguisher: Machine Learning based Generic Extension for Differential Cryptanalysis  Agenparl\n",
       "19                                                                                                                           Funding boost for artificial intelligence in NHS to speed up diagnosis of deadly diseases  Agenparl\n",
       "Name: title, dtype: object"
      ]
     },
     "execution_count": 25,
     "metadata": {},
     "output_type": "execute_result"
    }
   ],
   "source": [
    "df_news['title_tokens'] = df_news['title'].parallel_apply(news_tokenize_and_clean_title, stopwords = set(nlp.Defaults.stop_words))\n",
    "df_news['title_token_text'] = df_news['title_tokens'].parallel_apply(tokens_to_text)\n",
    "df_news['title'].head(20)"
   ]
  },
  {
   "cell_type": "code",
   "execution_count": 26,
   "id": "5dbb47c3-c8be-4fc9-a5ce-f8eadcc6b288",
   "metadata": {},
   "outputs": [],
   "source": [
    "sm_keywords = [\n",
    "    'market study', 'market analysis', 'market report', 'market reports', 'market opportunity', 'market opportunities',\n",
    "    'market segments', 'market segment', 'market drivers', 'market driver', 'emerging trends', 'business trend',\n",
    "    'business trends', 'financial', 'finance', 'stock market', 'stock', 'market share', 'stocks', 'platform market',\n",
    "    'platform markets', 'intelligence market', 'software market', 'market mirror', 'market eagle', 'market', 'markets', 'ftx'\n",
    "]\n",
    "\n",
    "\n",
    "\n",
    "sm_keyw = [*set(sm_keywords)]"
   ]
  },
  {
   "cell_type": "code",
   "execution_count": 27,
   "id": "f0976a6c-de79-436d-a6bb-fdabe253d1b9",
   "metadata": {},
   "outputs": [],
   "source": [
    "def get_sm_keywords(text):\n",
    "    global sm_keyw\n",
    "    words = text\n",
    "    total_count = 0\n",
    "    for i in sm_keyw:\n",
    "        occurance_count = words.count(i)\n",
    "        total_count += occurance_count\n",
    "    return total_count"
   ]
  },
  {
   "cell_type": "code",
   "execution_count": 28,
   "id": "00054722-fb2d-4328-bbc2-c35966e79a2d",
   "metadata": {},
   "outputs": [
    {
     "name": "stdout",
     "output_type": "stream",
     "text": [
      "CPU times: user 64.2 ms, sys: 2.24 s, total: 2.31 s\n",
      "Wall time: 2.77 s\n"
     ]
    }
   ],
   "source": [
    "%%time\n",
    "\n",
    "df_news['sm_keywords'] = df_news['title_token_text'].parallel_apply(get_sm_keywords)"
   ]
  },
  {
   "cell_type": "code",
   "execution_count": 30,
   "id": "4506fdb9-a1e1-426b-aa97-b558d7ed1ac7",
   "metadata": {},
   "outputs": [
    {
     "name": "stdout",
     "output_type": "stream",
     "text": [
      "(167294, 7)\n"
     ]
    }
   ],
   "source": [
    "df_news = df_news[df_news['sm_keywords'] == 0]\n",
    "print(df_news.shape)"
   ]
  },
  {
   "cell_type": "code",
   "execution_count": 31,
   "id": "94bb2fd1-4998-45ce-beaa-0efb6727f6e2",
   "metadata": {},
   "outputs": [],
   "source": [
    "df_news.drop(columns = ['sm_keywords'], inplace = True)"
   ]
  },
  {
   "cell_type": "code",
   "execution_count": 33,
   "id": "69bafb07-5463-4a85-b6bc-e850cbbade43",
   "metadata": {},
   "outputs": [],
   "source": [
    "reg_keywords = ['regulation', 'policy', 'compliance', 'legal framework', 'data protection', 'privacy laws', 'ethical guidelines', \n",
    "            'governance', 'legislative', 'regulatory framework', 'compliance requirements', 'data privacy', 'consent', \n",
    "            'security standards', 'compliance obligations']\n",
    "\n",
    "reg_keyw = [*set(reg_keywords)]"
   ]
  },
  {
   "cell_type": "code",
   "execution_count": 34,
   "id": "ec0559a5-ca26-4aa2-851e-0a75e0b55aaf",
   "metadata": {},
   "outputs": [],
   "source": [
    "def get_reg_keywords(text):\n",
    "    global reg_keyw\n",
    "    words = text\n",
    "    total_count = 0\n",
    "    for i in reg_keyw:\n",
    "        occurance_count = words.count(i)\n",
    "        total_count += occurance_count\n",
    "    return total_count"
   ]
  },
  {
   "cell_type": "code",
   "execution_count": 37,
   "id": "845f50d2-6c9b-427d-b627-317e3580624a",
   "metadata": {},
   "outputs": [
    {
     "name": "stdout",
     "output_type": "stream",
     "text": [
      "(165621, 7)\n"
     ]
    }
   ],
   "source": [
    "df_news['reg_keywords'] = df_news['title_token_text'].parallel_apply(get_reg_keywords)\n",
    "df_news = df_news[df_news['reg_keywords'] == 0]\n",
    "print(df_news.shape)"
   ]
  },
  {
   "cell_type": "code",
   "execution_count": 38,
   "id": "321deace-8d59-48a3-901c-b2f7ca2854ac",
   "metadata": {},
   "outputs": [
    {
     "name": "stdout",
     "output_type": "stream",
     "text": [
      "CPU times: user 718 ms, sys: 4.1 s, total: 4.82 s\n",
      "Wall time: 8.9 s\n"
     ]
    }
   ],
   "source": [
    "%%time\n",
    "\n",
    "df_news['article_length'] = df_news['text'].parallel_apply(lambda x: len(x.split()))"
   ]
  },
  {
   "cell_type": "code",
   "execution_count": 39,
   "id": "00abfa1f-fdfe-403c-8482-c1191240e13c",
   "metadata": {},
   "outputs": [
    {
     "name": "stdout",
     "output_type": "stream",
     "text": [
      "CPU times: user 90.7 ms, sys: 2.67 s, total: 2.76 s\n",
      "Wall time: 2.9 s\n"
     ]
    }
   ],
   "source": [
    "%%time\n",
    "\n",
    "df_news['title_length'] = df_news['title'].parallel_apply(lambda x: len(x.split()))"
   ]
  },
  {
   "cell_type": "code",
   "execution_count": 40,
   "id": "93e4a9d9-8b34-4c63-849a-5239bf01b135",
   "metadata": {},
   "outputs": [
    {
     "data": {
      "text/plain": [
       "count    165621.000000\n",
       "mean       1174.205771\n",
       "std         938.179931\n",
       "min           3.000000\n",
       "25%         686.000000\n",
       "50%         955.000000\n",
       "75%        1454.000000\n",
       "max       55466.000000\n",
       "Name: article_length, dtype: float64"
      ]
     },
     "execution_count": 40,
     "metadata": {},
     "output_type": "execute_result"
    }
   ],
   "source": [
    "df_news['article_length'].describe()"
   ]
  },
  {
   "cell_type": "code",
   "execution_count": 41,
   "id": "e6cb5874-e464-444c-98ac-a3d3e5a4e99d",
   "metadata": {},
   "outputs": [
    {
     "data": {
      "image/png": "[encoded data removed]",
      "text/plain": [
       "<Figure size 1000x400 with 1 Axes>"
      ]
     },
     "metadata": {},
     "output_type": "display_data"
    },
    {
     "name": "stdout",
     "output_type": "stream",
     "text": [
      "Minimum Article Length: 3.0\n",
      "Maximum Article Length: 2606.0\n"
     ]
    }
   ],
   "source": [
    "import matplotlib.pyplot as plt\n",
    "\n",
    "plt.figure(figsize=(10, 4))\n",
    "boxplot = plt.boxplot(df_news['article_length'], vert=0)\n",
    "plt.xlabel('Article Length')\n",
    "plt.title('Boxplot of Article Length')\n",
    "plt.grid()\n",
    "plt.show()\n",
    "\n",
    "# Extract the minimum and maximum values of the whiskers\n",
    "whiskers = [item.get_xdata() for item in boxplot['whiskers']]\n",
    "minimum = min(whiskers[0])\n",
    "maximum = max(whiskers[1])\n",
    "print(\"Minimum Article Length:\", minimum)\n",
    "print(\"Maximum Article Length:\", maximum)"
   ]
  },
  {
   "cell_type": "code",
   "execution_count": 42,
   "id": "ae8209db-0d6a-48ab-af87-b63fcf46a4a7",
   "metadata": {},
   "outputs": [
    {
     "data": {
      "text/plain": [
       "1385"
      ]
     },
     "execution_count": 42,
     "metadata": {},
     "output_type": "execute_result"
    }
   ],
   "source": [
    "df_news[df_news['article_length']<50].shape[0]"
   ]
  },
  {
   "cell_type": "code",
   "execution_count": 43,
   "id": "20eb9036-7f83-45b1-a29a-d8265bfeaa8c",
   "metadata": {},
   "outputs": [
    {
     "data": {
      "text/plain": [
       "6084"
      ]
     },
     "execution_count": 43,
     "metadata": {},
     "output_type": "execute_result"
    }
   ],
   "source": [
    "df_news[df_news['article_length']>2606].shape[0]"
   ]
  },
  {
   "cell_type": "code",
   "execution_count": 45,
   "id": "18693a38-776c-4de4-9c2f-5966d3c896bb",
   "metadata": {},
   "outputs": [
    {
     "data": {
      "text/plain": [
       "(156218, 9)"
      ]
     },
     "execution_count": 45,
     "metadata": {},
     "output_type": "execute_result"
    }
   ],
   "source": [
    "df_news = df_news[(df_news['article_length']>50) & (df_news['article_length']<2400)]\n",
    "df_news.shape"
   ]
  },
  {
   "cell_type": "code",
   "execution_count": 46,
   "id": "7fac929c-0a61-470b-acce-fd94af6f0d0c",
   "metadata": {},
   "outputs": [
    {
     "data": {
      "image/png": "[encoded data removed]",
      "text/plain": [
       "<Figure size 1000x400 with 1 Axes>"
      ]
     },
     "metadata": {},
     "output_type": "display_data"
    }
   ],
   "source": [
    "plt.figure(figsize=(10,4))\n",
    "plt.boxplot(df_news['article_length'], vert = 0)\n",
    "plt.grid()\n",
    "plt.show()"
   ]
  },
  {
   "cell_type": "code",
   "execution_count": 47,
   "id": "2725a765-c12e-455f-b47e-0ec7d64710a3",
   "metadata": {},
   "outputs": [
    {
     "data": {
      "text/html": [
       "<div>\n",
       "<style scoped>\n",
       "    .dataframe tbody tr th:only-of-type {\n",
       "        vertical-align: middle;\n",
       "    }\n",
       "\n",
       "    .dataframe tbody tr th {\n",
       "        vertical-align: top;\n",
       "    }\n",
       "\n",
       "    .dataframe thead th {\n",
       "        text-align: right;\n",
       "    }\n",
       "</style>\n",
       "<table border=\"1\" class=\"dataframe\">\n",
       "  <thead>\n",
       "    <tr style=\"text-align: right;\">\n",
       "      <th></th>\n",
       "      <th>url</th>\n",
       "      <th>date</th>\n",
       "      <th>title</th>\n",
       "      <th>text</th>\n",
       "      <th>title_tokens</th>\n",
       "      <th>title_token_text</th>\n",
       "      <th>reg_keywords</th>\n",
       "      <th>article_length</th>\n",
       "      <th>title_length</th>\n",
       "    </tr>\n",
       "  </thead>\n",
       "  <tbody>\n",
       "    <tr>\n",
       "      <th>0</th>\n",
       "      <td>http://en.people.cn/n3/2021/0318/c90000-9830122.html</td>\n",
       "      <td>2021-03-18</td>\n",
       "      <td>Artificial intelligence improves parking efficiency in Chinese cities - People's Daily Online</td>\n",
       "      <td>Artificial intelligence improves parking efficiency in Chinese cities - People's Daily Online Home China Politics Foreign Affairs Opinions Video: We Are China Business Military World Society Cult...</td>\n",
       "      <td>[artificial, intelligence, improves, parking, efficiency, chinese, cities, people, daily, online]</td>\n",
       "      <td>artificial intelligence improves parking efficiency chinese cities people daily online</td>\n",
       "      <td>0</td>\n",
       "      <td>833</td>\n",
       "      <td>12</td>\n",
       "    </tr>\n",
       "    <tr>\n",
       "      <th>1</th>\n",
       "      <td>http://newsparliament.com/2020/02/27/children-with-autism-saw-their-learning-and-social-skills-boosted-after-playing-with-this-ai-robot/</td>\n",
       "      <td>2020-02-27</td>\n",
       "      <td>Children With Autism Saw Their Learning and Social Skills Boosted After Playing With This AI Robot  News Parliament</td>\n",
       "      <td>Children With Autism Saw Their Learning and Social Skills Boosted After Playing With This AI Robot  News Parliament Skip to content Thursday, February , Latest: Mansplaining in conferences: How c...</td>\n",
       "      <td>[children, autism, saw, learning, social, skills, boosted, playing, ai, robot, news, parliament]</td>\n",
       "      <td>children autism saw learning social skills boosted playing ai robot news parliament</td>\n",
       "      <td>0</td>\n",
       "      <td>1516</td>\n",
       "      <td>18</td>\n",
       "    </tr>\n",
       "  </tbody>\n",
       "</table>\n",
       "</div>"
      ],
      "text/plain": [
       "                                                                                                                                        url   \n",
       "0                                                                                      http://en.people.cn/n3/2021/0318/c90000-9830122.html  \\\n",
       "1  http://newsparliament.com/2020/02/27/children-with-autism-saw-their-learning-and-social-skills-boosted-after-playing-with-this-ai-robot/   \n",
       "\n",
       "         date   \n",
       "0  2021-03-18  \\\n",
       "1  2020-02-27   \n",
       "\n",
       "                                                                                                                 title   \n",
       "0                        Artificial intelligence improves parking efficiency in Chinese cities - People's Daily Online  \\\n",
       "1  Children With Autism Saw Their Learning and Social Skills Boosted After Playing With This AI Robot  News Parliament   \n",
       "\n",
       "                                                                                                                                                                                                      text   \n",
       "0   Artificial intelligence improves parking efficiency in Chinese cities - People's Daily Online Home China Politics Foreign Affairs Opinions Video: We Are China Business Military World Society Cult...  \\\n",
       "1   Children With Autism Saw Their Learning and Social Skills Boosted After Playing With This AI Robot  News Parliament Skip to content Thursday, February , Latest: Mansplaining in conferences: How c...   \n",
       "\n",
       "                                                                                        title_tokens   \n",
       "0  [artificial, intelligence, improves, parking, efficiency, chinese, cities, people, daily, online]  \\\n",
       "1   [children, autism, saw, learning, social, skills, boosted, playing, ai, robot, news, parliament]   \n",
       "\n",
       "                                                                         title_token_text   \n",
       "0  artificial intelligence improves parking efficiency chinese cities people daily online  \\\n",
       "1     children autism saw learning social skills boosted playing ai robot news parliament   \n",
       "\n",
       "   reg_keywords  article_length  title_length  \n",
       "0             0             833            12  \n",
       "1             0            1516            18  "
      ]
     },
     "execution_count": 47,
     "metadata": {},
     "output_type": "execute_result"
    }
   ],
   "source": [
    "df_news.head(2)"
   ]
  },
  {
   "cell_type": "code",
   "execution_count": 48,
   "id": "2feaaf52-a6b8-40fb-9708-b897f8f64184",
   "metadata": {},
   "outputs": [
    {
     "name": "stdout",
     "output_type": "stream",
     "text": [
      "INFO: Pandarallel will run on 15 workers.\n",
      "INFO: Pandarallel will use standard multiprocessing data transfer (pipe) to transfer data between the main process and workers.\n"
     ]
    }
   ],
   "source": [
    "pandarallel.initialize(nb_workers=15, use_memory_fs=False)"
   ]
  },
  {
   "cell_type": "code",
   "execution_count": 50,
   "id": "208747fb-c72e-42c4-8fef-73aa0cc14082",
   "metadata": {},
   "outputs": [
    {
     "data": {
      "text/plain": [
       "(154184, 9)"
      ]
     },
     "execution_count": 50,
     "metadata": {},
     "output_type": "execute_result"
    }
   ],
   "source": [
    "# Remove duplicates based on text or title\n",
    "df_news = df_news.drop_duplicates(subset=['text'])\n",
    "df_news.shape"
   ]
  },
  {
   "cell_type": "code",
   "execution_count": 51,
   "id": "455ad10d-953a-4454-8080-1d6e4808cca0",
   "metadata": {},
   "outputs": [
    {
     "data": {
      "text/html": [
       "<div>\n",
       "<style scoped>\n",
       "    .dataframe tbody tr th:only-of-type {\n",
       "        vertical-align: middle;\n",
       "    }\n",
       "\n",
       "    .dataframe tbody tr th {\n",
       "        vertical-align: top;\n",
       "    }\n",
       "\n",
       "    .dataframe thead th {\n",
       "        text-align: right;\n",
       "    }\n",
       "</style>\n",
       "<table border=\"1\" class=\"dataframe\">\n",
       "  <thead>\n",
       "    <tr style=\"text-align: right;\">\n",
       "      <th></th>\n",
       "      <th>url</th>\n",
       "      <th>date</th>\n",
       "      <th>title</th>\n",
       "      <th>text</th>\n",
       "      <th>title_tokens</th>\n",
       "      <th>title_token_text</th>\n",
       "      <th>reg_keywords</th>\n",
       "      <th>article_length</th>\n",
       "      <th>title_length</th>\n",
       "    </tr>\n",
       "  </thead>\n",
       "  <tbody>\n",
       "    <tr>\n",
       "      <th>0</th>\n",
       "      <td>http://en.people.cn/n3/2021/0318/c90000-9830122.html</td>\n",
       "      <td>2021-03-18</td>\n",
       "      <td>Artificial intelligence improves parking efficiency in Chinese cities - People's Daily Online</td>\n",
       "      <td>Artificial intelligence improves parking efficiency in Chinese cities - People's Daily Online Home China Politics Foreign Affairs Opinions Video: We Are China Business Military World Society Cult...</td>\n",
       "      <td>[artificial, intelligence, improves, parking, efficiency, chinese, cities, people, daily, online]</td>\n",
       "      <td>artificial intelligence improves parking efficiency chinese cities people daily online</td>\n",
       "      <td>0</td>\n",
       "      <td>833</td>\n",
       "      <td>12</td>\n",
       "    </tr>\n",
       "  </tbody>\n",
       "</table>\n",
       "</div>"
      ],
      "text/plain": [
       "                                                    url        date   \n",
       "0  http://en.people.cn/n3/2021/0318/c90000-9830122.html  2021-03-18  \\\n",
       "\n",
       "                                                                                           title   \n",
       "0  Artificial intelligence improves parking efficiency in Chinese cities - People's Daily Online  \\\n",
       "\n",
       "                                                                                                                                                                                                      text   \n",
       "0   Artificial intelligence improves parking efficiency in Chinese cities - People's Daily Online Home China Politics Foreign Affairs Opinions Video: We Are China Business Military World Society Cult...  \\\n",
       "\n",
       "                                                                                        title_tokens   \n",
       "0  [artificial, intelligence, improves, parking, efficiency, chinese, cities, people, daily, online]  \\\n",
       "\n",
       "                                                                         title_token_text   \n",
       "0  artificial intelligence improves parking efficiency chinese cities people daily online  \\\n",
       "\n",
       "   reg_keywords  article_length  title_length  \n",
       "0             0             833            12  "
      ]
     },
     "execution_count": 51,
     "metadata": {},
     "output_type": "execute_result"
    }
   ],
   "source": [
    "df_news.head(1)"
   ]
  },
  {
   "cell_type": "code",
   "execution_count": 52,
   "id": "7cdb81f3-7bd0-482b-abd4-b91d8494e4ca",
   "metadata": {},
   "outputs": [],
   "source": [
    "df_news.drop(columns = ['article_length','title_length','title_tokens','title_token_text','reg_keywords'], inplace = True)"
   ]
  },
  {
   "cell_type": "code",
   "execution_count": 53,
   "id": "d3836f3f-47d7-441c-ba61-4cc494ae8e18",
   "metadata": {},
   "outputs": [],
   "source": [
    "# Save the DataFrame to a file (e.g., CSV or pickle)\n",
    "df_news.to_csv('df_news_1.csv', index=False)\n"
   ]
  },
  {
   "cell_type": "code",
   "execution_count": 54,
   "id": "981d423e-3e0b-42d8-9e97-5430670a58ab",
   "metadata": {},
   "outputs": [
    {
     "name": "stdout",
     "output_type": "stream",
     "text": [
      "INFO: Pandarallel will run on 15 workers.\n",
      "INFO: Pandarallel will use standard multiprocessing data transfer (pipe) to transfer data between the main process and workers.\n"
     ]
    }
   ],
   "source": [
    "pandarallel.initialize(nb_workers=15, use_memory_fs=False)"
   ]
  },
  {
   "cell_type": "code",
   "execution_count": 55,
   "id": "fa02f067-6e50-4429-aad3-1f454c24fbe4",
   "metadata": {},
   "outputs": [],
   "source": [
    "custom_stopwords_list = [*set(['provided', 'courtesy', 'prnewswire', 'view', 'opinion', 'statement',\n",
    "                               'press', 'release', 'endorsed', 'gray', 'medium', 'group', 'necessarily',\n",
    "                               'state', 'reflect','january', 'february','march',  'december', 'november',\n",
    "                               'october', 'september', 'august', 'july', 'june', 'april','may','blog',\n",
    "                               'journalist', 'editorial', 'rights', 'reserved', 'privacy', 'policy'])]"
   ]
  },
  {
   "cell_type": "code",
   "execution_count": 59,
   "id": "24ce09d1-44fe-4b63-9c08-da3dafff6c3b",
   "metadata": {},
   "outputs": [
    {
     "name": "stdout",
     "output_type": "stream",
     "text": [
      "CPU times: user 13.6 s, sys: 11.5 s, total: 25.1 s\n",
      "Wall time: 3min 2s\n"
     ]
    }
   ],
   "source": [
    "%%time\n",
    "\n",
    "df_news['tokens'] = df_news['text'].parallel_apply(news_tokenize_and_clean_text, stopwords = set(nlp.Defaults.stop_words), custom_stopwords =  custom_stopwords_list)"
   ]
  },
  {
   "cell_type": "code",
   "execution_count": 60,
   "id": "f2e96544-f489-4fc2-a273-3244ad7d2eff",
   "metadata": {},
   "outputs": [
    {
     "name": "stdout",
     "output_type": "stream",
     "text": [
      "CPU times: user 32.2 s, sys: 13.7 s, total: 45.9 s\n",
      "Wall time: 47.5 s\n"
     ]
    }
   ],
   "source": [
    "%%time\n",
    "\n",
    "df_news['token_text'] = df_news['tokens'].parallel_apply(tokens_to_text)"
   ]
  },
  {
   "cell_type": "code",
   "execution_count": 61,
   "id": "3779c246-e804-4eea-b465-eebde09c2050",
   "metadata": {},
   "outputs": [],
   "source": [
    "# Save the DataFrame to a file (e.g., CSV or pickle)\n",
    "df_news.to_csv('df_news_c.csv', index=False)"
   ]
  },
  {
   "cell_type": "code",
   "execution_count": null,
   "id": "a9a48a1e-8c00-4088-9c9f-3d750b8c071b",
   "metadata": {},
   "outputs": [],
   "source": []
  }
 ],
 "metadata": {
  "environment": {
   "kernel": "python3",
   "name": "common-cpu.m108",
   "type": "gcloud",
   "uri": "gcr.io/deeplearning-platform-release/base-cpu:m108"
  },
  "kernelspec": {
   "display_name": "Python 3",
   "language": "python",
   "name": "python3"
  },
  "language_info": {
   "codemirror_mode": {
    "name": "ipython",
    "version": 3
   },
   "file_extension": ".py",
   "mimetype": "text/x-python",
   "name": "python",
   "nbconvert_exporter": "python",
   "pygments_lexer": "ipython3",
   "version": "3.10.10"
  }
 },
 "nbformat": 4,
 "nbformat_minor": 5
}
